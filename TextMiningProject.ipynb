{
  "nbformat": 4,
  "nbformat_minor": 0,
  "metadata": {
    "colab": {
      "name": "TextMiningProject.ipynb",
      "provenance": [],
      "collapsed_sections": []
    },
    "kernelspec": {
      "name": "python3",
      "display_name": "Python 3"
    },
    "accelerator": "GPU"
  },
  "cells": [
    {
      "cell_type": "markdown",
      "metadata": {
        "id": "qCz87V9YE2Gp"
      },
      "source": [
        "# Data extraction and Pre-processing"
      ]
    },
    {
      "cell_type": "code",
      "metadata": {
        "id": "pQU6rNh5EHkF"
      },
      "source": [
        "from google.colab import drive\n",
        "drive.mount('/content/drive')"
      ],
      "execution_count": null,
      "outputs": []
    },
    {
      "cell_type": "code",
      "metadata": {
        "id": "COiSUqZ1Asi2"
      },
      "source": [
        "import os\n",
        "os.chdir('/content/drive/MyDrive/TextMiningProject/Similarity_project')"
      ],
      "execution_count": 4,
      "outputs": []
    },
    {
      "cell_type": "code",
      "metadata": {
        "id": "iC0zHviTBkHQ"
      },
      "source": [
        "import pandas as pd\n",
        "import matplotlib.pyplot as plt\n",
        "import numpy as np\n",
        "from sklearn.feature_extraction.text import TfidfVectorizer\n",
        "from sklearn.model_selection import train_test_split\n",
        "import pandas as pd\n",
        "import matplotlib.pyplot as plt\n",
        "import numpy as np\n",
        "# import spacy\n",
        "# nlp = spacy.load('en_core_web_sm')#, disable=[\"tagger\", \"parser\", \"ner\"])\n",
        "from sklearn.feature_extraction.text import TfidfVectorizer\n",
        "from sklearn.cluster import KMeans\n",
        "from sklearn.metrics import classification_report\n",
        "from collections import Counter\n",
        "from sklearn.mixture import GaussianMixture\n",
        "from sklearn.manifold import TSNE\n",
        "from gensim.models import LdaModel\n",
        "from gensim.corpora import Dictionary"
      ],
      "execution_count": 3,
      "outputs": []
    },
    {
      "cell_type": "code",
      "metadata": {
        "colab": {
          "base_uri": "https://localhost:8080/"
        },
        "id": "y1OdDYkED6QZ",
        "outputId": "407f4937-0ef0-4a98-d035-25d8e960b599"
      },
      "source": [
        "!python -m spacy download en_core_web_md"
      ],
      "execution_count": 6,
      "outputs": [
        {
          "output_type": "stream",
          "text": [
            "Collecting en_core_web_md==2.2.5\n",
            "\u001b[?25l  Downloading https://github.com/explosion/spacy-models/releases/download/en_core_web_md-2.2.5/en_core_web_md-2.2.5.tar.gz (96.4MB)\n",
            "\u001b[K     |████████████████████████████████| 96.4MB 1.2MB/s \n",
            "\u001b[?25hRequirement already satisfied: spacy>=2.2.2 in /usr/local/lib/python3.7/dist-packages (from en_core_web_md==2.2.5) (2.2.4)\n",
            "Requirement already satisfied: requests<3.0.0,>=2.13.0 in /usr/local/lib/python3.7/dist-packages (from spacy>=2.2.2->en_core_web_md==2.2.5) (2.23.0)\n",
            "Requirement already satisfied: numpy>=1.15.0 in /usr/local/lib/python3.7/dist-packages (from spacy>=2.2.2->en_core_web_md==2.2.5) (1.19.5)\n",
            "Requirement already satisfied: cymem<2.1.0,>=2.0.2 in /usr/local/lib/python3.7/dist-packages (from spacy>=2.2.2->en_core_web_md==2.2.5) (2.0.5)\n",
            "Requirement already satisfied: tqdm<5.0.0,>=4.38.0 in /usr/local/lib/python3.7/dist-packages (from spacy>=2.2.2->en_core_web_md==2.2.5) (4.41.1)\n",
            "Requirement already satisfied: preshed<3.1.0,>=3.0.2 in /usr/local/lib/python3.7/dist-packages (from spacy>=2.2.2->en_core_web_md==2.2.5) (3.0.5)\n",
            "Requirement already satisfied: srsly<1.1.0,>=1.0.2 in /usr/local/lib/python3.7/dist-packages (from spacy>=2.2.2->en_core_web_md==2.2.5) (1.0.5)\n",
            "Requirement already satisfied: plac<1.2.0,>=0.9.6 in /usr/local/lib/python3.7/dist-packages (from spacy>=2.2.2->en_core_web_md==2.2.5) (1.1.3)\n",
            "Requirement already satisfied: wasabi<1.1.0,>=0.4.0 in /usr/local/lib/python3.7/dist-packages (from spacy>=2.2.2->en_core_web_md==2.2.5) (0.8.2)\n",
            "Requirement already satisfied: setuptools in /usr/local/lib/python3.7/dist-packages (from spacy>=2.2.2->en_core_web_md==2.2.5) (54.0.0)\n",
            "Requirement already satisfied: thinc==7.4.0 in /usr/local/lib/python3.7/dist-packages (from spacy>=2.2.2->en_core_web_md==2.2.5) (7.4.0)\n",
            "Requirement already satisfied: blis<0.5.0,>=0.4.0 in /usr/local/lib/python3.7/dist-packages (from spacy>=2.2.2->en_core_web_md==2.2.5) (0.4.1)\n",
            "Requirement already satisfied: catalogue<1.1.0,>=0.0.7 in /usr/local/lib/python3.7/dist-packages (from spacy>=2.2.2->en_core_web_md==2.2.5) (1.0.0)\n",
            "Requirement already satisfied: murmurhash<1.1.0,>=0.28.0 in /usr/local/lib/python3.7/dist-packages (from spacy>=2.2.2->en_core_web_md==2.2.5) (1.0.5)\n",
            "Requirement already satisfied: urllib3!=1.25.0,!=1.25.1,<1.26,>=1.21.1 in /usr/local/lib/python3.7/dist-packages (from requests<3.0.0,>=2.13.0->spacy>=2.2.2->en_core_web_md==2.2.5) (1.24.3)\n",
            "Requirement already satisfied: certifi>=2017.4.17 in /usr/local/lib/python3.7/dist-packages (from requests<3.0.0,>=2.13.0->spacy>=2.2.2->en_core_web_md==2.2.5) (2020.12.5)\n",
            "Requirement already satisfied: chardet<4,>=3.0.2 in /usr/local/lib/python3.7/dist-packages (from requests<3.0.0,>=2.13.0->spacy>=2.2.2->en_core_web_md==2.2.5) (3.0.4)\n",
            "Requirement already satisfied: idna<3,>=2.5 in /usr/local/lib/python3.7/dist-packages (from requests<3.0.0,>=2.13.0->spacy>=2.2.2->en_core_web_md==2.2.5) (2.10)\n",
            "Requirement already satisfied: importlib-metadata>=0.20; python_version < \"3.8\" in /usr/local/lib/python3.7/dist-packages (from catalogue<1.1.0,>=0.0.7->spacy>=2.2.2->en_core_web_md==2.2.5) (3.7.2)\n",
            "Requirement already satisfied: zipp>=0.5 in /usr/local/lib/python3.7/dist-packages (from importlib-metadata>=0.20; python_version < \"3.8\"->catalogue<1.1.0,>=0.0.7->spacy>=2.2.2->en_core_web_md==2.2.5) (3.4.1)\n",
            "Requirement already satisfied: typing-extensions>=3.6.4; python_version < \"3.8\" in /usr/local/lib/python3.7/dist-packages (from importlib-metadata>=0.20; python_version < \"3.8\"->catalogue<1.1.0,>=0.0.7->spacy>=2.2.2->en_core_web_md==2.2.5) (3.7.4.3)\n",
            "Building wheels for collected packages: en-core-web-md\n",
            "  Building wheel for en-core-web-md (setup.py) ... \u001b[?25l\u001b[?25hdone\n",
            "  Created wheel for en-core-web-md: filename=en_core_web_md-2.2.5-cp37-none-any.whl size=98051305 sha256=77c8bd01829b9f10a8688462ce706c7c893fe091ee35cb9801dbc769663e7c51\n",
            "  Stored in directory: /tmp/pip-ephem-wheel-cache-2lv3n2ev/wheels/df/94/ad/f5cf59224cea6b5686ac4fd1ad19c8a07bc026e13c36502d81\n",
            "Successfully built en-core-web-md\n",
            "Installing collected packages: en-core-web-md\n",
            "Successfully installed en-core-web-md-2.2.5\n",
            "\u001b[38;5;2m✔ Download and installation successful\u001b[0m\n",
            "You can now load the model via spacy.load('en_core_web_md')\n"
          ],
          "name": "stdout"
        }
      ]
    },
    {
      "cell_type": "code",
      "metadata": {
        "id": "IMqzIbCOD-GG"
      },
      "source": [
        "import spacy\n",
        "# nlp = spacy.load('en_core_web_lg')\n",
        "import en_core_web_md\n",
        "nlp = en_core_web_md.load()\n",
        "# nlp = spacy.load(\"en_core_web_md\") "
      ],
      "execution_count": 7,
      "outputs": []
    },
    {
      "cell_type": "markdown",
      "metadata": {
        "id": "7YJ8IMRhBdH7"
      },
      "source": [
        "## Data pre-processing"
      ]
    },
    {
      "cell_type": "code",
      "metadata": {
        "colab": {
          "base_uri": "https://localhost:8080/",
          "height": 298
        },
        "id": "dGx6_8vHBAKQ",
        "outputId": "e0ff46f0-627e-4696-9fd9-b58acd898d87"
      },
      "source": [
        "trainRaw = pd.read_csv(\"train.csv\")\n",
        "print(trainRaw.shape)\n",
        "trainRaw.head(5)"
      ],
      "execution_count": 5,
      "outputs": [
        {
          "output_type": "stream",
          "text": [
            "(320552, 8)\n"
          ],
          "name": "stdout"
        },
        {
          "output_type": "execute_result",
          "data": {
            "text/html": [
              "<div>\n",
              "<style scoped>\n",
              "    .dataframe tbody tr th:only-of-type {\n",
              "        vertical-align: middle;\n",
              "    }\n",
              "\n",
              "    .dataframe tbody tr th {\n",
              "        vertical-align: top;\n",
              "    }\n",
              "\n",
              "    .dataframe thead th {\n",
              "        text-align: right;\n",
              "    }\n",
              "</style>\n",
              "<table border=\"1\" class=\"dataframe\">\n",
              "  <thead>\n",
              "    <tr style=\"text-align: right;\">\n",
              "      <th></th>\n",
              "      <th>id</th>\n",
              "      <th>tid1</th>\n",
              "      <th>tid2</th>\n",
              "      <th>title1_zh</th>\n",
              "      <th>title2_zh</th>\n",
              "      <th>title1_en</th>\n",
              "      <th>title2_en</th>\n",
              "      <th>label</th>\n",
              "    </tr>\n",
              "  </thead>\n",
              "  <tbody>\n",
              "    <tr>\n",
              "      <th>0</th>\n",
              "      <td>0</td>\n",
              "      <td>0</td>\n",
              "      <td>1</td>\n",
              "      <td>2017养老保险又新增两项，农村老人人人可申领，你领到了吗</td>\n",
              "      <td>警方辟谣“鸟巢大会每人领5万” 仍有老人坚持进京</td>\n",
              "      <td>There are two new old-age insurance benefits f...</td>\n",
              "      <td>Police disprove \"bird's nest congress each per...</td>\n",
              "      <td>unrelated</td>\n",
              "    </tr>\n",
              "    <tr>\n",
              "      <th>1</th>\n",
              "      <td>3</td>\n",
              "      <td>2</td>\n",
              "      <td>3</td>\n",
              "      <td>\"你不来深圳，早晚你儿子也要来\"，不出10年深圳人均GDP将超香港</td>\n",
              "      <td>深圳GDP首超香港？深圳统计局辟谣：只是差距在缩小</td>\n",
              "      <td>\"If you do not come to Shenzhen, sooner or lat...</td>\n",
              "      <td>Shenzhen's GDP outstrips Hong Kong? Shenzhen S...</td>\n",
              "      <td>unrelated</td>\n",
              "    </tr>\n",
              "    <tr>\n",
              "      <th>2</th>\n",
              "      <td>1</td>\n",
              "      <td>2</td>\n",
              "      <td>4</td>\n",
              "      <td>\"你不来深圳，早晚你儿子也要来\"，不出10年深圳人均GDP将超香港</td>\n",
              "      <td>GDP首超香港？深圳澄清：还差一点点……</td>\n",
              "      <td>\"If you do not come to Shenzhen, sooner or lat...</td>\n",
              "      <td>The GDP overtopped Hong Kong? Shenzhen clarifi...</td>\n",
              "      <td>unrelated</td>\n",
              "    </tr>\n",
              "    <tr>\n",
              "      <th>3</th>\n",
              "      <td>2</td>\n",
              "      <td>2</td>\n",
              "      <td>5</td>\n",
              "      <td>\"你不来深圳，早晚你儿子也要来\"，不出10年深圳人均GDP将超香港</td>\n",
              "      <td>去年深圳GDP首超香港？深圳统计局辟谣：还差611亿</td>\n",
              "      <td>\"If you do not come to Shenzhen, sooner or lat...</td>\n",
              "      <td>Shenzhen's GDP topped Hong Kong last year? She...</td>\n",
              "      <td>unrelated</td>\n",
              "    </tr>\n",
              "    <tr>\n",
              "      <th>4</th>\n",
              "      <td>9</td>\n",
              "      <td>6</td>\n",
              "      <td>7</td>\n",
              "      <td>\"用大蒜鉴别地沟油的方法,怎么鉴别地沟油</td>\n",
              "      <td>吃了30年食用油才知道，一片大蒜轻松鉴别地沟油</td>\n",
              "      <td>\"How to discriminate oil from gutter oil by me...</td>\n",
              "      <td>It took 30 years of cooking oil to know that o...</td>\n",
              "      <td>agreed</td>\n",
              "    </tr>\n",
              "  </tbody>\n",
              "</table>\n",
              "</div>"
            ],
            "text/plain": [
              "   id  tid1  ...                                          title2_en      label\n",
              "0   0     0  ...  Police disprove \"bird's nest congress each per...  unrelated\n",
              "1   3     2  ...  Shenzhen's GDP outstrips Hong Kong? Shenzhen S...  unrelated\n",
              "2   1     2  ...  The GDP overtopped Hong Kong? Shenzhen clarifi...  unrelated\n",
              "3   2     2  ...  Shenzhen's GDP topped Hong Kong last year? She...  unrelated\n",
              "4   9     6  ...  It took 30 years of cooking oil to know that o...     agreed\n",
              "\n",
              "[5 rows x 8 columns]"
            ]
          },
          "metadata": {
            "tags": []
          },
          "execution_count": 5
        }
      ]
    },
    {
      "cell_type": "code",
      "metadata": {
        "colab": {
          "base_uri": "https://localhost:8080/",
          "height": 197
        },
        "id": "ILgq0ygmB4WL",
        "outputId": "801f4a16-bcd3-4986-be90-912c08000aaa"
      },
      "source": [
        "# dropping Chinese columns\n",
        "trainDataI = trainRaw.drop(['title1_zh', 'title2_zh'], axis=1)\n",
        "trainDataI.head(5)"
      ],
      "execution_count": 6,
      "outputs": [
        {
          "output_type": "execute_result",
          "data": {
            "text/html": [
              "<div>\n",
              "<style scoped>\n",
              "    .dataframe tbody tr th:only-of-type {\n",
              "        vertical-align: middle;\n",
              "    }\n",
              "\n",
              "    .dataframe tbody tr th {\n",
              "        vertical-align: top;\n",
              "    }\n",
              "\n",
              "    .dataframe thead th {\n",
              "        text-align: right;\n",
              "    }\n",
              "</style>\n",
              "<table border=\"1\" class=\"dataframe\">\n",
              "  <thead>\n",
              "    <tr style=\"text-align: right;\">\n",
              "      <th></th>\n",
              "      <th>id</th>\n",
              "      <th>tid1</th>\n",
              "      <th>tid2</th>\n",
              "      <th>title1_en</th>\n",
              "      <th>title2_en</th>\n",
              "      <th>label</th>\n",
              "    </tr>\n",
              "  </thead>\n",
              "  <tbody>\n",
              "    <tr>\n",
              "      <th>0</th>\n",
              "      <td>0</td>\n",
              "      <td>0</td>\n",
              "      <td>1</td>\n",
              "      <td>There are two new old-age insurance benefits f...</td>\n",
              "      <td>Police disprove \"bird's nest congress each per...</td>\n",
              "      <td>unrelated</td>\n",
              "    </tr>\n",
              "    <tr>\n",
              "      <th>1</th>\n",
              "      <td>3</td>\n",
              "      <td>2</td>\n",
              "      <td>3</td>\n",
              "      <td>\"If you do not come to Shenzhen, sooner or lat...</td>\n",
              "      <td>Shenzhen's GDP outstrips Hong Kong? Shenzhen S...</td>\n",
              "      <td>unrelated</td>\n",
              "    </tr>\n",
              "    <tr>\n",
              "      <th>2</th>\n",
              "      <td>1</td>\n",
              "      <td>2</td>\n",
              "      <td>4</td>\n",
              "      <td>\"If you do not come to Shenzhen, sooner or lat...</td>\n",
              "      <td>The GDP overtopped Hong Kong? Shenzhen clarifi...</td>\n",
              "      <td>unrelated</td>\n",
              "    </tr>\n",
              "    <tr>\n",
              "      <th>3</th>\n",
              "      <td>2</td>\n",
              "      <td>2</td>\n",
              "      <td>5</td>\n",
              "      <td>\"If you do not come to Shenzhen, sooner or lat...</td>\n",
              "      <td>Shenzhen's GDP topped Hong Kong last year? She...</td>\n",
              "      <td>unrelated</td>\n",
              "    </tr>\n",
              "    <tr>\n",
              "      <th>4</th>\n",
              "      <td>9</td>\n",
              "      <td>6</td>\n",
              "      <td>7</td>\n",
              "      <td>\"How to discriminate oil from gutter oil by me...</td>\n",
              "      <td>It took 30 years of cooking oil to know that o...</td>\n",
              "      <td>agreed</td>\n",
              "    </tr>\n",
              "  </tbody>\n",
              "</table>\n",
              "</div>"
            ],
            "text/plain": [
              "   id  tid1  ...                                          title2_en      label\n",
              "0   0     0  ...  Police disprove \"bird's nest congress each per...  unrelated\n",
              "1   3     2  ...  Shenzhen's GDP outstrips Hong Kong? Shenzhen S...  unrelated\n",
              "2   1     2  ...  The GDP overtopped Hong Kong? Shenzhen clarifi...  unrelated\n",
              "3   2     2  ...  Shenzhen's GDP topped Hong Kong last year? She...  unrelated\n",
              "4   9     6  ...  It took 30 years of cooking oil to know that o...     agreed\n",
              "\n",
              "[5 rows x 6 columns]"
            ]
          },
          "metadata": {
            "tags": []
          },
          "execution_count": 6
        }
      ]
    },
    {
      "cell_type": "code",
      "metadata": {
        "colab": {
          "base_uri": "https://localhost:8080/",
          "height": 393
        },
        "id": "QV8pOHXeB7ZE",
        "outputId": "c6ddf324-295a-4b5f-f14b-30b97874ede7"
      },
      "source": [
        "# check the dataset stucture\n",
        "print('The datapoints per each category are') \n",
        "print(trainDataI['label'].value_counts())\n",
        "trainDataI['label'].value_counts().plot(kind='bar')\n",
        "plt.show()"
      ],
      "execution_count": 7,
      "outputs": [
        {
          "output_type": "stream",
          "text": [
            "The datapoints per each category are\n",
            "unrelated    219313\n",
            "agreed        92973\n",
            "disagreed      8266\n",
            "Name: label, dtype: int64\n"
          ],
          "name": "stdout"
        },
        {
          "output_type": "display_data",
          "data": {
            "image/png": "[encoded data removed]",
            "text/plain": [
              "<Figure size 432x288 with 1 Axes>"
            ]
          },
          "metadata": {
            "tags": [],
            "needs_background": "light"
          }
        }
      ]
    },
    {
      "cell_type": "markdown",
      "metadata": {
        "id": "jSTYcdkmCLPU"
      },
      "source": [
        "## Perform Inital Classification"
      ]
    },
    {
      "cell_type": "markdown",
      "metadata": {
        "id": "UeVz1bE5C4QB"
      },
      "source": [
        "**Naive bayes classifier**"
      ]
    },
    {
      "cell_type": "code",
      "metadata": {
        "colab": {
          "base_uri": "https://localhost:8080/",
          "height": 282
        },
        "id": "_8kTxArZCVHY",
        "outputId": "6b9b50a5-99d0-4524-950d-df4e664e5009"
      },
      "source": [
        "ddf = trainDataI.copy()\n",
        "ddf['features'] = ddf.apply(lambda row: row['title1_en'] + row['title2_en'],axis = 1)\n",
        "dl = pd.Series(['unrelated' if label == 'unrelated' else 'related' for label in trainDataI['label']])\n",
        "ddf = ddf.drop(['label'], axis=1)\n",
        "ddf['labelN'] = dl.values\n",
        "print(ddf.shape)\n",
        "ddf.head(5)"
      ],
      "execution_count": 8,
      "outputs": [
        {
          "output_type": "stream",
          "text": [
            "(320552, 7)\n"
          ],
          "name": "stdout"
        },
        {
          "output_type": "execute_result",
          "data": {
            "text/html": [
              "<div>\n",
              "<style scoped>\n",
              "    .dataframe tbody tr th:only-of-type {\n",
              "        vertical-align: middle;\n",
              "    }\n",
              "\n",
              "    .dataframe tbody tr th {\n",
              "        vertical-align: top;\n",
              "    }\n",
              "\n",
              "    .dataframe thead th {\n",
              "        text-align: right;\n",
              "    }\n",
              "</style>\n",
              "<table border=\"1\" class=\"dataframe\">\n",
              "  <thead>\n",
              "    <tr style=\"text-align: right;\">\n",
              "      <th></th>\n",
              "      <th>id</th>\n",
              "      <th>tid1</th>\n",
              "      <th>tid2</th>\n",
              "      <th>title1_en</th>\n",
              "      <th>title2_en</th>\n",
              "      <th>features</th>\n",
              "      <th>labelN</th>\n",
              "    </tr>\n",
              "  </thead>\n",
              "  <tbody>\n",
              "    <tr>\n",
              "      <th>0</th>\n",
              "      <td>0</td>\n",
              "      <td>0</td>\n",
              "      <td>1</td>\n",
              "      <td>There are two new old-age insurance benefits f...</td>\n",
              "      <td>Police disprove \"bird's nest congress each per...</td>\n",
              "      <td>There are two new old-age insurance benefits f...</td>\n",
              "      <td>unrelated</td>\n",
              "    </tr>\n",
              "    <tr>\n",
              "      <th>1</th>\n",
              "      <td>3</td>\n",
              "      <td>2</td>\n",
              "      <td>3</td>\n",
              "      <td>\"If you do not come to Shenzhen, sooner or lat...</td>\n",
              "      <td>Shenzhen's GDP outstrips Hong Kong? Shenzhen S...</td>\n",
              "      <td>\"If you do not come to Shenzhen, sooner or lat...</td>\n",
              "      <td>unrelated</td>\n",
              "    </tr>\n",
              "    <tr>\n",
              "      <th>2</th>\n",
              "      <td>1</td>\n",
              "      <td>2</td>\n",
              "      <td>4</td>\n",
              "      <td>\"If you do not come to Shenzhen, sooner or lat...</td>\n",
              "      <td>The GDP overtopped Hong Kong? Shenzhen clarifi...</td>\n",
              "      <td>\"If you do not come to Shenzhen, sooner or lat...</td>\n",
              "      <td>unrelated</td>\n",
              "    </tr>\n",
              "    <tr>\n",
              "      <th>3</th>\n",
              "      <td>2</td>\n",
              "      <td>2</td>\n",
              "      <td>5</td>\n",
              "      <td>\"If you do not come to Shenzhen, sooner or lat...</td>\n",
              "      <td>Shenzhen's GDP topped Hong Kong last year? She...</td>\n",
              "      <td>\"If you do not come to Shenzhen, sooner or lat...</td>\n",
              "      <td>unrelated</td>\n",
              "    </tr>\n",
              "    <tr>\n",
              "      <th>4</th>\n",
              "      <td>9</td>\n",
              "      <td>6</td>\n",
              "      <td>7</td>\n",
              "      <td>\"How to discriminate oil from gutter oil by me...</td>\n",
              "      <td>It took 30 years of cooking oil to know that o...</td>\n",
              "      <td>\"How to discriminate oil from gutter oil by me...</td>\n",
              "      <td>related</td>\n",
              "    </tr>\n",
              "  </tbody>\n",
              "</table>\n",
              "</div>"
            ],
            "text/plain": [
              "   id  tid1  ...                                           features     labelN\n",
              "0   0     0  ...  There are two new old-age insurance benefits f...  unrelated\n",
              "1   3     2  ...  \"If you do not come to Shenzhen, sooner or lat...  unrelated\n",
              "2   1     2  ...  \"If you do not come to Shenzhen, sooner or lat...  unrelated\n",
              "3   2     2  ...  \"If you do not come to Shenzhen, sooner or lat...  unrelated\n",
              "4   9     6  ...  \"How to discriminate oil from gutter oil by me...    related\n",
              "\n",
              "[5 rows x 7 columns]"
            ]
          },
          "metadata": {
            "tags": []
          },
          "execution_count": 8
        }
      ]
    },
    {
      "cell_type": "code",
      "metadata": {
        "id": "avAaeBvyChJ1"
      },
      "source": [
        "X_train, X_test, y_train, y_test = train_test_split(ddf['features'], ddf['labelN'], test_size=0.30, random_state=42)\n"
      ],
      "execution_count": 9,
      "outputs": []
    },
    {
      "cell_type": "code",
      "metadata": {
        "id": "TwhmC1f7Clld"
      },
      "source": [
        "vector = TfidfVectorizer(stop_words = 'english')\n",
        "\n",
        "# Naive Bayes Classifier \n",
        "from sklearn.naive_bayes import BernoulliNB\n",
        "clf = BernoulliNB()\n",
        "\n",
        "# Pipeline\n",
        "from sklearn.pipeline import make_pipeline\n",
        "pipelined = make_pipeline(vector, clf)\n",
        "Model = pipelined.fit(X_train,y_train)\n",
        "ModelPred = Model.predict(X_test)"
      ],
      "execution_count": 10,
      "outputs": []
    },
    {
      "cell_type": "code",
      "metadata": {
        "colab": {
          "base_uri": "https://localhost:8080/"
        },
        "id": "M-PKlsvlCpi-",
        "outputId": "8ca8c7f7-4a61-4ef9-b40f-c95a7cfc94a0"
      },
      "source": [
        "# Evaluation \n",
        "from sklearn.metrics import classification_report\n",
        "report = classification_report(y_test, ModelPred)\n",
        "print(report)"
      ],
      "execution_count": 11,
      "outputs": [
        {
          "output_type": "stream",
          "text": [
            "              precision    recall  f1-score   support\n",
            "\n",
            "     related       0.58      0.71      0.63     30180\n",
            "   unrelated       0.85      0.76      0.80     65986\n",
            "\n",
            "    accuracy                           0.74     96166\n",
            "   macro avg       0.71      0.73      0.72     96166\n",
            "weighted avg       0.76      0.74      0.75     96166\n",
            "\n"
          ],
          "name": "stdout"
        }
      ]
    },
    {
      "cell_type": "markdown",
      "metadata": {
        "id": "dV6VfpzwCu1J"
      },
      "source": [
        "**Implementing Logistic Regression**"
      ]
    },
    {
      "cell_type": "code",
      "metadata": {
        "id": "z2PWQN6jCtxq"
      },
      "source": [
        "# Logistic Regression \n",
        "from sklearn.linear_model import LogisticRegression\n",
        "clfLogit = LogisticRegression(max_iter = 500)#,multi_class = 'multinomial', max_iter = 1000)\n",
        "\n",
        "# Pipeline\n",
        "pipelinedLogit = make_pipeline(vector, clfLogit)\n",
        "ModelLogit = pipelinedLogit.fit(X_train,y_train)\n",
        "ModelPredLogit = ModelLogit.predict(X_test)"
      ],
      "execution_count": 12,
      "outputs": []
    },
    {
      "cell_type": "code",
      "metadata": {
        "colab": {
          "base_uri": "https://localhost:8080/"
        },
        "id": "r-HMYsKJDBvv",
        "outputId": "a6d24ef6-eb8b-4d97-938a-7f08b523ecca"
      },
      "source": [
        "# Evaluation \n",
        "reportLogit = classification_report(y_test, ModelPredLogit)\n",
        "print(reportLogit)"
      ],
      "execution_count": 13,
      "outputs": [
        {
          "output_type": "stream",
          "text": [
            "              precision    recall  f1-score   support\n",
            "\n",
            "     related       0.74      0.54      0.62     30180\n",
            "   unrelated       0.81      0.91      0.86     65986\n",
            "\n",
            "    accuracy                           0.79     96166\n",
            "   macro avg       0.77      0.73      0.74     96166\n",
            "weighted avg       0.79      0.79      0.78     96166\n",
            "\n"
          ],
          "name": "stdout"
        }
      ]
    },
    {
      "cell_type": "markdown",
      "metadata": {
        "id": "cK6ISMGPCgQY"
      },
      "source": [
        "## Take subset of data and saving in a file"
      ]
    },
    {
      "cell_type": "code",
      "metadata": {
        "colab": {
          "base_uri": "https://localhost:8080/",
          "height": 393
        },
        "id": "IXbYX8mAB9r6",
        "outputId": "78a6c3a3-ea7f-4cbe-cc8f-1dedeb22e516"
      },
      "source": [
        "# Subset\n",
        "trainData = trainDataI[:30000]\n",
        "# check the dataset stucture of subset\n",
        "print('The datapoints per each category are') \n",
        "print(trainData['label'].value_counts())\n",
        "trainData['label'].value_counts().plot(kind='bar')\n",
        "plt.show()"
      ],
      "execution_count": 14,
      "outputs": [
        {
          "output_type": "stream",
          "text": [
            "The datapoints per each category are\n",
            "unrelated    20898\n",
            "agreed        8347\n",
            "disagreed      755\n",
            "Name: label, dtype: int64\n"
          ],
          "name": "stdout"
        },
        {
          "output_type": "display_data",
          "data": {
            "image/png": "[encoded data removed]",
            "text/plain": [
              "<Figure size 432x288 with 1 Axes>"
            ]
          },
          "metadata": {
            "tags": [],
            "needs_background": "light"
          }
        }
      ]
    },
    {
      "cell_type": "code",
      "metadata": {
        "colab": {
          "base_uri": "https://localhost:8080/",
          "height": 197
        },
        "id": "-wsc_SICCD8d",
        "outputId": "46f27566-a111-4e18-ff6c-210ef5bb4615"
      },
      "source": [
        "labelsNew = pd.Series(['unrelated' if label == 'unrelated' else 'related' for label in trainData['label']])\n",
        "df = trainData.copy()\n",
        "df = df.drop(['label'], axis=1)\n",
        "df['labelN'] = labelsNew.values\n",
        "df.head(5)"
      ],
      "execution_count": 15,
      "outputs": [
        {
          "output_type": "execute_result",
          "data": {
            "text/html": [
              "<div>\n",
              "<style scoped>\n",
              "    .dataframe tbody tr th:only-of-type {\n",
              "        vertical-align: middle;\n",
              "    }\n",
              "\n",
              "    .dataframe tbody tr th {\n",
              "        vertical-align: top;\n",
              "    }\n",
              "\n",
              "    .dataframe thead th {\n",
              "        text-align: right;\n",
              "    }\n",
              "</style>\n",
              "<table border=\"1\" class=\"dataframe\">\n",
              "  <thead>\n",
              "    <tr style=\"text-align: right;\">\n",
              "      <th></th>\n",
              "      <th>id</th>\n",
              "      <th>tid1</th>\n",
              "      <th>tid2</th>\n",
              "      <th>title1_en</th>\n",
              "      <th>title2_en</th>\n",
              "      <th>labelN</th>\n",
              "    </tr>\n",
              "  </thead>\n",
              "  <tbody>\n",
              "    <tr>\n",
              "      <th>0</th>\n",
              "      <td>0</td>\n",
              "      <td>0</td>\n",
              "      <td>1</td>\n",
              "      <td>There are two new old-age insurance benefits f...</td>\n",
              "      <td>Police disprove \"bird's nest congress each per...</td>\n",
              "      <td>unrelated</td>\n",
              "    </tr>\n",
              "    <tr>\n",
              "      <th>1</th>\n",
              "      <td>3</td>\n",
              "      <td>2</td>\n",
              "      <td>3</td>\n",
              "      <td>\"If you do not come to Shenzhen, sooner or lat...</td>\n",
              "      <td>Shenzhen's GDP outstrips Hong Kong? Shenzhen S...</td>\n",
              "      <td>unrelated</td>\n",
              "    </tr>\n",
              "    <tr>\n",
              "      <th>2</th>\n",
              "      <td>1</td>\n",
              "      <td>2</td>\n",
              "      <td>4</td>\n",
              "      <td>\"If you do not come to Shenzhen, sooner or lat...</td>\n",
              "      <td>The GDP overtopped Hong Kong? Shenzhen clarifi...</td>\n",
              "      <td>unrelated</td>\n",
              "    </tr>\n",
              "    <tr>\n",
              "      <th>3</th>\n",
              "      <td>2</td>\n",
              "      <td>2</td>\n",
              "      <td>5</td>\n",
              "      <td>\"If you do not come to Shenzhen, sooner or lat...</td>\n",
              "      <td>Shenzhen's GDP topped Hong Kong last year? She...</td>\n",
              "      <td>unrelated</td>\n",
              "    </tr>\n",
              "    <tr>\n",
              "      <th>4</th>\n",
              "      <td>9</td>\n",
              "      <td>6</td>\n",
              "      <td>7</td>\n",
              "      <td>\"How to discriminate oil from gutter oil by me...</td>\n",
              "      <td>It took 30 years of cooking oil to know that o...</td>\n",
              "      <td>related</td>\n",
              "    </tr>\n",
              "  </tbody>\n",
              "</table>\n",
              "</div>"
            ],
            "text/plain": [
              "   id  tid1  ...                                          title2_en     labelN\n",
              "0   0     0  ...  Police disprove \"bird's nest congress each per...  unrelated\n",
              "1   3     2  ...  Shenzhen's GDP outstrips Hong Kong? Shenzhen S...  unrelated\n",
              "2   1     2  ...  The GDP overtopped Hong Kong? Shenzhen clarifi...  unrelated\n",
              "3   2     2  ...  Shenzhen's GDP topped Hong Kong last year? She...  unrelated\n",
              "4   9     6  ...  It took 30 years of cooking oil to know that o...    related\n",
              "\n",
              "[5 rows x 6 columns]"
            ]
          },
          "metadata": {
            "tags": []
          },
          "execution_count": 15
        }
      ]
    },
    {
      "cell_type": "code",
      "metadata": {
        "colab": {
          "base_uri": "https://localhost:8080/",
          "height": 392
        },
        "id": "-xuQWT2kDu-x",
        "outputId": "c78ea9d0-3d12-47ca-e8b5-8f6073bb759e"
      },
      "source": [
        "print('The datapoints per each category are') \n",
        "print(df['labelN'].value_counts())\n",
        "df['labelN'].value_counts().plot(kind='bar')"
      ],
      "execution_count": 16,
      "outputs": [
        {
          "output_type": "stream",
          "text": [
            "The datapoints per each category are\n",
            "unrelated    20898\n",
            "related       9102\n",
            "Name: labelN, dtype: int64\n"
          ],
          "name": "stdout"
        },
        {
          "output_type": "execute_result",
          "data": {
            "text/plain": [
              "<matplotlib.axes._subplots.AxesSubplot at 0x7fc09ae532d0>"
            ]
          },
          "metadata": {
            "tags": []
          },
          "execution_count": 16
        },
        {
          "output_type": "display_data",
          "data": {
            "image/png": "[encoded data removed]",
            "text/plain": [
              "<Figure size 432x288 with 1 Axes>"
            ]
          },
          "metadata": {
            "tags": [],
            "needs_background": "light"
          }
        }
      ]
    },
    {
      "cell_type": "markdown",
      "metadata": {
        "id": "2JOzZv8bEdPb"
      },
      "source": [
        "## Pre-process the articles by removing stop words, lemmatization and extracting only alphabets"
      ]
    },
    {
      "cell_type": "code",
      "metadata": {
        "id": "Uq9q9belDxfh"
      },
      "source": [
        "def preprocess(text):\n",
        "    tokens = []\n",
        "    for word in nlp(text):\n",
        "        if word.is_stop == False and word.lemma_.isalpha():\n",
        "             tokens.append(word.lemma_)\n",
        "    return tokens"
      ],
      "execution_count": 17,
      "outputs": []
    },
    {
      "cell_type": "code",
      "metadata": {
        "id": "cEIyr-U8EPbU"
      },
      "source": [
        "# df['docA'] = df['title1_en'].apply(preprocess)\n",
        "# df['docB'] = df['title2_en'].apply(preprocess)\n",
        "\n",
        "# saving the dataframe  \n",
        "# df.to_csv('data_preprocessed.csv')  "
      ],
      "execution_count": 18,
      "outputs": []
    },
    {
      "cell_type": "code",
      "metadata": {
        "colab": {
          "base_uri": "https://localhost:8080/",
          "height": 297
        },
        "id": "LbTMaAu2Ecix",
        "outputId": "1827022d-b697-438e-a506-ca6716baf3bc"
      },
      "source": [
        "df = pd.read_csv('data_preprocessed.csv')\n",
        "df.head(5)"
      ],
      "execution_count": 20,
      "outputs": [
        {
          "output_type": "execute_result",
          "data": {
            "text/html": [
              "<div>\n",
              "<style scoped>\n",
              "    .dataframe tbody tr th:only-of-type {\n",
              "        vertical-align: middle;\n",
              "    }\n",
              "\n",
              "    .dataframe tbody tr th {\n",
              "        vertical-align: top;\n",
              "    }\n",
              "\n",
              "    .dataframe thead th {\n",
              "        text-align: right;\n",
              "    }\n",
              "</style>\n",
              "<table border=\"1\" class=\"dataframe\">\n",
              "  <thead>\n",
              "    <tr style=\"text-align: right;\">\n",
              "      <th></th>\n",
              "      <th>Unnamed: 0</th>\n",
              "      <th>id</th>\n",
              "      <th>tid1</th>\n",
              "      <th>tid2</th>\n",
              "      <th>title1_en</th>\n",
              "      <th>title2_en</th>\n",
              "      <th>labelN</th>\n",
              "      <th>docA</th>\n",
              "      <th>docB</th>\n",
              "    </tr>\n",
              "  </thead>\n",
              "  <tbody>\n",
              "    <tr>\n",
              "      <th>0</th>\n",
              "      <td>0</td>\n",
              "      <td>0</td>\n",
              "      <td>0</td>\n",
              "      <td>1</td>\n",
              "      <td>There are two new old-age insurance benefits f...</td>\n",
              "      <td>Police disprove \"bird's nest congress each per...</td>\n",
              "      <td>unrelated</td>\n",
              "      <td>['new', 'old', 'age', 'insurance', 'benefit', ...</td>\n",
              "      <td>['Police', 'disprove', 'bird', 'nest', 'congre...</td>\n",
              "    </tr>\n",
              "    <tr>\n",
              "      <th>1</th>\n",
              "      <td>1</td>\n",
              "      <td>3</td>\n",
              "      <td>2</td>\n",
              "      <td>3</td>\n",
              "      <td>\"If you do not come to Shenzhen, sooner or lat...</td>\n",
              "      <td>Shenzhen's GDP outstrips Hong Kong? Shenzhen S...</td>\n",
              "      <td>unrelated</td>\n",
              "      <td>['come', 'Shenzhen', 'sooner', 'later', 'son',...</td>\n",
              "      <td>['Shenzhen', 'gdp', 'outstrip', 'Hong', 'Kong'...</td>\n",
              "    </tr>\n",
              "    <tr>\n",
              "      <th>2</th>\n",
              "      <td>2</td>\n",
              "      <td>1</td>\n",
              "      <td>2</td>\n",
              "      <td>4</td>\n",
              "      <td>\"If you do not come to Shenzhen, sooner or lat...</td>\n",
              "      <td>The GDP overtopped Hong Kong? Shenzhen clarifi...</td>\n",
              "      <td>unrelated</td>\n",
              "      <td>['come', 'Shenzhen', 'sooner', 'later', 'son',...</td>\n",
              "      <td>['GDP', 'overtop', 'Hong', 'Kong', 'Shenzhen',...</td>\n",
              "    </tr>\n",
              "    <tr>\n",
              "      <th>3</th>\n",
              "      <td>3</td>\n",
              "      <td>2</td>\n",
              "      <td>2</td>\n",
              "      <td>5</td>\n",
              "      <td>\"If you do not come to Shenzhen, sooner or lat...</td>\n",
              "      <td>Shenzhen's GDP topped Hong Kong last year? She...</td>\n",
              "      <td>unrelated</td>\n",
              "      <td>['come', 'Shenzhen', 'sooner', 'later', 'son',...</td>\n",
              "      <td>['Shenzhen', 'gdp', 'top', 'Hong', 'Kong', 'ye...</td>\n",
              "    </tr>\n",
              "    <tr>\n",
              "      <th>4</th>\n",
              "      <td>4</td>\n",
              "      <td>9</td>\n",
              "      <td>6</td>\n",
              "      <td>7</td>\n",
              "      <td>\"How to discriminate oil from gutter oil by me...</td>\n",
              "      <td>It took 30 years of cooking oil to know that o...</td>\n",
              "      <td>related</td>\n",
              "      <td>['discriminate', 'oil', 'gutter', 'oil', 'mean...</td>\n",
              "      <td>['take', 'year', 'cook', 'oil', 'know', 'piece...</td>\n",
              "    </tr>\n",
              "  </tbody>\n",
              "</table>\n",
              "</div>"
            ],
            "text/plain": [
              "   Unnamed: 0  ...                                               docB\n",
              "0           0  ...  ['Police', 'disprove', 'bird', 'nest', 'congre...\n",
              "1           1  ...  ['Shenzhen', 'gdp', 'outstrip', 'Hong', 'Kong'...\n",
              "2           2  ...  ['GDP', 'overtop', 'Hong', 'Kong', 'Shenzhen',...\n",
              "3           3  ...  ['Shenzhen', 'gdp', 'top', 'Hong', 'Kong', 'ye...\n",
              "4           4  ...  ['take', 'year', 'cook', 'oil', 'know', 'piece...\n",
              "\n",
              "[5 rows x 9 columns]"
            ]
          },
          "metadata": {
            "tags": []
          },
          "execution_count": 20
        }
      ]
    },
    {
      "cell_type": "markdown",
      "metadata": {
        "id": "cxOqlmSmFC3N"
      },
      "source": [
        "# Context based Similarity - Topic Modelling "
      ]
    },
    {
      "cell_type": "code",
      "metadata": {
        "colab": {
          "base_uri": "https://localhost:8080/",
          "height": 297
        },
        "id": "zWkL-Ql0TELn",
        "outputId": "ddfc1772-56e4-4e35-cf6f-60c1422cb06b"
      },
      "source": [
        "df = pd.read_csv('data_preprocessed.csv')\n",
        "df.head(5)"
      ],
      "execution_count": 9,
      "outputs": [
        {
          "output_type": "execute_result",
          "data": {
            "text/html": [
              "<div>\n",
              "<style scoped>\n",
              "    .dataframe tbody tr th:only-of-type {\n",
              "        vertical-align: middle;\n",
              "    }\n",
              "\n",
              "    .dataframe tbody tr th {\n",
              "        vertical-align: top;\n",
              "    }\n",
              "\n",
              "    .dataframe thead th {\n",
              "        text-align: right;\n",
              "    }\n",
              "</style>\n",
              "<table border=\"1\" class=\"dataframe\">\n",
              "  <thead>\n",
              "    <tr style=\"text-align: right;\">\n",
              "      <th></th>\n",
              "      <th>Unnamed: 0</th>\n",
              "      <th>id</th>\n",
              "      <th>tid1</th>\n",
              "      <th>tid2</th>\n",
              "      <th>title1_en</th>\n",
              "      <th>title2_en</th>\n",
              "      <th>labelN</th>\n",
              "      <th>docA</th>\n",
              "      <th>docB</th>\n",
              "    </tr>\n",
              "  </thead>\n",
              "  <tbody>\n",
              "    <tr>\n",
              "      <th>0</th>\n",
              "      <td>0</td>\n",
              "      <td>0</td>\n",
              "      <td>0</td>\n",
              "      <td>1</td>\n",
              "      <td>There are two new old-age insurance benefits f...</td>\n",
              "      <td>Police disprove \"bird's nest congress each per...</td>\n",
              "      <td>unrelated</td>\n",
              "      <td>['new', 'old', 'age', 'insurance', 'benefit', ...</td>\n",
              "      <td>['Police', 'disprove', 'bird', 'nest', 'congre...</td>\n",
              "    </tr>\n",
              "    <tr>\n",
              "      <th>1</th>\n",
              "      <td>1</td>\n",
              "      <td>3</td>\n",
              "      <td>2</td>\n",
              "      <td>3</td>\n",
              "      <td>\"If you do not come to Shenzhen, sooner or lat...</td>\n",
              "      <td>Shenzhen's GDP outstrips Hong Kong? Shenzhen S...</td>\n",
              "      <td>unrelated</td>\n",
              "      <td>['come', 'Shenzhen', 'sooner', 'later', 'son',...</td>\n",
              "      <td>['Shenzhen', 'gdp', 'outstrip', 'Hong', 'Kong'...</td>\n",
              "    </tr>\n",
              "    <tr>\n",
              "      <th>2</th>\n",
              "      <td>2</td>\n",
              "      <td>1</td>\n",
              "      <td>2</td>\n",
              "      <td>4</td>\n",
              "      <td>\"If you do not come to Shenzhen, sooner or lat...</td>\n",
              "      <td>The GDP overtopped Hong Kong? Shenzhen clarifi...</td>\n",
              "      <td>unrelated</td>\n",
              "      <td>['come', 'Shenzhen', 'sooner', 'later', 'son',...</td>\n",
              "      <td>['GDP', 'overtop', 'Hong', 'Kong', 'Shenzhen',...</td>\n",
              "    </tr>\n",
              "    <tr>\n",
              "      <th>3</th>\n",
              "      <td>3</td>\n",
              "      <td>2</td>\n",
              "      <td>2</td>\n",
              "      <td>5</td>\n",
              "      <td>\"If you do not come to Shenzhen, sooner or lat...</td>\n",
              "      <td>Shenzhen's GDP topped Hong Kong last year? She...</td>\n",
              "      <td>unrelated</td>\n",
              "      <td>['come', 'Shenzhen', 'sooner', 'later', 'son',...</td>\n",
              "      <td>['Shenzhen', 'gdp', 'top', 'Hong', 'Kong', 'ye...</td>\n",
              "    </tr>\n",
              "    <tr>\n",
              "      <th>4</th>\n",
              "      <td>4</td>\n",
              "      <td>9</td>\n",
              "      <td>6</td>\n",
              "      <td>7</td>\n",
              "      <td>\"How to discriminate oil from gutter oil by me...</td>\n",
              "      <td>It took 30 years of cooking oil to know that o...</td>\n",
              "      <td>related</td>\n",
              "      <td>['discriminate', 'oil', 'gutter', 'oil', 'mean...</td>\n",
              "      <td>['take', 'year', 'cook', 'oil', 'know', 'piece...</td>\n",
              "    </tr>\n",
              "  </tbody>\n",
              "</table>\n",
              "</div>"
            ],
            "text/plain": [
              "   Unnamed: 0  ...                                               docB\n",
              "0           0  ...  ['Police', 'disprove', 'bird', 'nest', 'congre...\n",
              "1           1  ...  ['Shenzhen', 'gdp', 'outstrip', 'Hong', 'Kong'...\n",
              "2           2  ...  ['GDP', 'overtop', 'Hong', 'Kong', 'Shenzhen',...\n",
              "3           3  ...  ['Shenzhen', 'gdp', 'top', 'Hong', 'Kong', 'ye...\n",
              "4           4  ...  ['take', 'year', 'cook', 'oil', 'know', 'piece...\n",
              "\n",
              "[5 rows x 9 columns]"
            ]
          },
          "metadata": {
            "tags": []
          },
          "execution_count": 9
        }
      ]
    },
    {
      "cell_type": "markdown",
      "metadata": {
        "id": "EJYQx9JjSreA"
      },
      "source": [
        "## K-means Clustering"
      ]
    },
    {
      "cell_type": "code",
      "metadata": {
        "id": "wqHHowiKTU0H"
      },
      "source": [
        "# article A\n",
        "vector = TfidfVectorizer(stop_words = 'english') \n",
        "modelAClus = vector.fit(df['title1_en'])\n",
        "docsAclus = modelAClus.transform(df['title1_en'])"
      ],
      "execution_count": 13,
      "outputs": []
    },
    {
      "cell_type": "code",
      "metadata": {
        "id": "VR8Jg89NTWbw"
      },
      "source": [
        "# article B\n",
        "vector = TfidfVectorizer(stop_words = 'english')\n",
        "modelBClus = vector.fit(df['title2_en'])\n",
        "docsBclus = modelBClus.transform(df['title2_en'])"
      ],
      "execution_count": 14,
      "outputs": []
    },
    {
      "cell_type": "code",
      "metadata": {
        "id": "dtJs62Vg_4RT"
      },
      "source": [
        "# defining function for kmeans\n",
        "def kmeansfun(k, docs1, docs2):\n",
        "    model1 = KMeans(n_clusters=k, n_init=5).fit(docs1)\n",
        "    model2 = KMeans(n_clusters=k, n_init=5).fit(docs2)\n",
        "    return model1, model2"
      ],
      "execution_count": 15,
      "outputs": []
    },
    {
      "cell_type": "code",
      "metadata": {
        "id": "tKaFRfPG_4RT"
      },
      "source": [
        "# predict function according to the experiment\n",
        "def predfun(labelsA, labelsB):\n",
        "    out = []\n",
        "    for i in range(len(labelsA)):\n",
        "        if labelsA[i] == labelsB[i]:  \n",
        "             out.append('related') \n",
        "        else:\n",
        "            out.append('unrelated')\n",
        "    return out"
      ],
      "execution_count": 16,
      "outputs": []
    },
    {
      "cell_type": "code",
      "metadata": {
        "id": "SSO-RO-9_4RT",
        "colab": {
          "base_uri": "https://localhost:8080/",
          "height": 294
        },
        "outputId": "0a25f2b5-0eed-476c-8556-eed6aaa179f1"
      },
      "source": [
        "# k = 5\n",
        "kmeansA5, kmeansB5 = kmeansfun(5, docsAclus, docsBclus)\n",
        "unique15, counts15 = np.unique(kmeansA5.labels_, return_counts=True)\n",
        "unique25, counts25 = np.unique(kmeansB5.labels_, return_counts=True)\n",
        "plt.bar(unique15, counts15, alpha = 0.5, label = 'Article A')\n",
        "plt.bar(unique25, counts25, alpha = 0.5, label = 'Article B')\n",
        "plt.legend(loc='upper right')\n",
        "plt.suptitle(\"Kmeans model with 5 topics\")\n",
        "plt.show()"
      ],
      "execution_count": 29,
      "outputs": [
        {
          "output_type": "display_data",
          "data": {
            "image/png": "[encoded data removed]",
            "text/plain": [
              "<Figure size 432x288 with 1 Axes>"
            ]
          },
          "metadata": {
            "tags": [],
            "needs_background": "light"
          }
        }
      ]
    },
    {
      "cell_type": "code",
      "metadata": {
        "id": "2MnoyTkl_4RU",
        "colab": {
          "base_uri": "https://localhost:8080/"
        },
        "outputId": "2f4ce48e-0678-429e-9586-bacc50d7d651"
      },
      "source": [
        "predkmeans5 = predfun(kmeansA5.labels_, kmeansB5.labels_)\n",
        "crkmeans5 = classification_report(df['labelN'], predkmeans5)\n",
        "print(crkmeans5)"
      ],
      "execution_count": 18,
      "outputs": [
        {
          "output_type": "stream",
          "text": [
            "              precision    recall  f1-score   support\n",
            "\n",
            "     related       0.32      0.20      0.24      9102\n",
            "   unrelated       0.70      0.82      0.75     20898\n",
            "\n",
            "    accuracy                           0.63     30000\n",
            "   macro avg       0.51      0.51      0.50     30000\n",
            "weighted avg       0.58      0.63      0.60     30000\n",
            "\n"
          ],
          "name": "stdout"
        }
      ]
    },
    {
      "cell_type": "code",
      "metadata": {
        "id": "jntT6FT2_4RU",
        "colab": {
          "base_uri": "https://localhost:8080/"
        },
        "outputId": "8a11b73a-f0cd-4a39-eccc-40f790f54382"
      },
      "source": [
        "Counter(predkmeans5)"
      ],
      "execution_count": 19,
      "outputs": [
        {
          "output_type": "execute_result",
          "data": {
            "text/plain": [
              "Counter({'related': 5611, 'unrelated': 24389})"
            ]
          },
          "metadata": {
            "tags": []
          },
          "execution_count": 19
        }
      ]
    },
    {
      "cell_type": "markdown",
      "metadata": {
        "id": "rbMLuzxx_4RU"
      },
      "source": [
        "When minimum number of cluster are considered, say k = 5, there will be lesser topics to consider and most of the times, two articles belong to same cluster. To experiment the theory that was mentioned above, it is really important to cluster the data with broader topic models so that specific models can achieve predictions close to gold labels. Hence, more clusters are considered. "
      ]
    },
    {
      "cell_type": "code",
      "metadata": {
        "id": "BtidIQy1_4RU",
        "colab": {
          "base_uri": "https://localhost:8080/",
          "height": 294
        },
        "outputId": "3919a2c5-4e8d-4f1e-9f36-e85f752a9439"
      },
      "source": [
        "# k = 10\n",
        "kmeansA10, kmeansB10 = kmeansfun(10, docsAclus, docsBclus)\n",
        "unique110, counts110 = np.unique(kmeansA10.labels_, return_counts=True)\n",
        "unique210, counts210 = np.unique(kmeansB10.labels_, return_counts=True)\n",
        "plt.bar(unique110, counts110, alpha = 0.5, label = 'Article A')\n",
        "plt.bar(unique210, counts210, alpha = 0.5, label = 'Article B')\n",
        "plt.legend(loc='upper right')\n",
        "plt.suptitle(\"Kmeans model with 10 topics\")\n",
        "plt.show()"
      ],
      "execution_count": 30,
      "outputs": [
        {
          "output_type": "display_data",
          "data": {
            "image/png": "[encoded data removed]",
            "text/plain": [
              "<Figure size 432x288 with 1 Axes>"
            ]
          },
          "metadata": {
            "tags": [],
            "needs_background": "light"
          }
        }
      ]
    },
    {
      "cell_type": "markdown",
      "metadata": {
        "id": "P6uRA8dY_4RU"
      },
      "source": [
        "This plot clearly shows that the clustering wasn't great. Using Kmeans for 10, we have achieved maximum number of articles A belong to 1st cluster whereas with article B, 5th cluster has maximum number of documents. So, it can be said that for k = 10, the model is not good. "
      ]
    },
    {
      "cell_type": "code",
      "metadata": {
        "id": "BGHraDlD_4RU",
        "colab": {
          "base_uri": "https://localhost:8080/"
        },
        "outputId": "3ec1d793-f221-4c83-b9b6-0e4c252dba15"
      },
      "source": [
        "predkmeans10 = predfun(kmeansA10.labels_, kmeansB10.labels_)\n",
        "crkmeans10 = classification_report(df['labelN'], predkmeans10) \n",
        "print(crkmeans10)"
      ],
      "execution_count": 21,
      "outputs": [
        {
          "output_type": "stream",
          "text": [
            "              precision    recall  f1-score   support\n",
            "\n",
            "     related       0.27      0.04      0.07      9102\n",
            "   unrelated       0.69      0.95      0.80     20898\n",
            "\n",
            "    accuracy                           0.68     30000\n",
            "   macro avg       0.48      0.50      0.44     30000\n",
            "weighted avg       0.56      0.68      0.58     30000\n",
            "\n"
          ],
          "name": "stdout"
        }
      ]
    },
    {
      "cell_type": "code",
      "metadata": {
        "id": "UAKhQEMr_4RU",
        "colab": {
          "base_uri": "https://localhost:8080/"
        },
        "outputId": "68e01cfe-866c-427d-8af3-1a12ad13eede"
      },
      "source": [
        "Counter(predkmeans10)"
      ],
      "execution_count": 22,
      "outputs": [
        {
          "output_type": "execute_result",
          "data": {
            "text/plain": [
              "Counter({'related': 1322, 'unrelated': 28678})"
            ]
          },
          "metadata": {
            "tags": []
          },
          "execution_count": 22
        }
      ]
    },
    {
      "cell_type": "markdown",
      "metadata": {
        "id": "ECc4RAEj_4RU"
      },
      "source": [
        "The accuracy of the model is around 69%. As we can see the recall and f1-score of related class are very low. Accuracy is high because of high number of unrelated class lables"
      ]
    },
    {
      "cell_type": "code",
      "metadata": {
        "id": "Q7k1NOxH_4RU",
        "colab": {
          "base_uri": "https://localhost:8080/",
          "height": 294
        },
        "outputId": "3a4608be-4a30-4116-e2a7-866029cacb3a"
      },
      "source": [
        "# k = 20\n",
        "kmeansA20, kmeansB20 = kmeansfun(20, docsAclus, docsBclus)\n",
        "unique120, counts120 = np.unique(kmeansA20.labels_, return_counts=True)\n",
        "unique220, counts220 = np.unique(kmeansB20.labels_, return_counts=True)\n",
        "plt.bar(unique120, counts120, alpha = 0.5, label = 'Article A')\n",
        "plt.bar(unique220, counts220, alpha = 0.5, label = 'Article B')\n",
        "plt.legend(loc='upper right')\n",
        "plt.suptitle(\"Kmeans model with 20 topics\")\n",
        "plt.show()"
      ],
      "execution_count": 31,
      "outputs": [
        {
          "output_type": "display_data",
          "data": {
            "image/png": "[encoded data removed]",
            "text/plain": [
              "<Figure size 432x288 with 1 Axes>"
            ]
          },
          "metadata": {
            "tags": [],
            "needs_background": "light"
          }
        }
      ]
    },
    {
      "cell_type": "code",
      "metadata": {
        "id": "TpgzwREG_4RU",
        "colab": {
          "base_uri": "https://localhost:8080/"
        },
        "outputId": "27d17550-a875-41b3-9f89-0bf0bf2c7380"
      },
      "source": [
        "predkmeans20 = predfun(kmeansA20.labels_, kmeansB20.labels_)\n",
        "crkmeans20 = classification_report(df['labelN'], predkmeans20) \n",
        "print(crkmeans20)"
      ],
      "execution_count": 24,
      "outputs": [
        {
          "output_type": "stream",
          "text": [
            "              precision    recall  f1-score   support\n",
            "\n",
            "     related       0.25      0.05      0.08      9102\n",
            "   unrelated       0.69      0.94      0.80     20898\n",
            "\n",
            "    accuracy                           0.67     30000\n",
            "   macro avg       0.47      0.49      0.44     30000\n",
            "weighted avg       0.56      0.67      0.58     30000\n",
            "\n"
          ],
          "name": "stdout"
        }
      ]
    },
    {
      "cell_type": "code",
      "metadata": {
        "id": "eq_RQdNs_4RU",
        "colab": {
          "base_uri": "https://localhost:8080/"
        },
        "outputId": "30d2bdfb-81e2-42cf-c116-4b5c613947fe"
      },
      "source": [
        "Counter(predkmeans20)"
      ],
      "execution_count": 25,
      "outputs": [
        {
          "output_type": "execute_result",
          "data": {
            "text/plain": [
              "Counter({'related': 1649, 'unrelated': 28351})"
            ]
          },
          "metadata": {
            "tags": []
          },
          "execution_count": 25
        }
      ]
    },
    {
      "cell_type": "markdown",
      "metadata": {
        "id": "nuWuetAb_4RV"
      },
      "source": [
        "Using k = 20, the clusters seems to be improved but the accuracy has been reduced. Even though we have almost equal number of labels predicted, they are not same as the true labels. However, we can see the recall and f1-score of related class are improved."
      ]
    },
    {
      "cell_type": "code",
      "metadata": {
        "id": "y6FcfKaQ_4RV",
        "colab": {
          "base_uri": "https://localhost:8080/",
          "height": 294
        },
        "outputId": "e6854006-272e-4af4-f297-5e4cbff8ef08"
      },
      "source": [
        "# k = 30\n",
        "kmeansA30, kmeansB30 = kmeansfun(30, docsAclus, docsBclus)\n",
        "unique130, counts130 = np.unique(kmeansA30.labels_, return_counts=True)\n",
        "unique230, counts230 = np.unique(kmeansB30.labels_, return_counts=True)\n",
        "plt.bar(unique130, counts130, alpha = 0.5, label = 'Article A')\n",
        "plt.bar(unique230, counts230, alpha = 0.5, label = 'Article B')\n",
        "plt.legend(loc='upper right')\n",
        "plt.suptitle(\"Kmeans model with 30 topics\")\n",
        "plt.show()"
      ],
      "execution_count": 32,
      "outputs": [
        {
          "output_type": "display_data",
          "data": {
            "image/png": "[encoded data removed]",
            "text/plain": [
              "<Figure size 432x288 with 1 Axes>"
            ]
          },
          "metadata": {
            "tags": [],
            "needs_background": "light"
          }
        }
      ]
    },
    {
      "cell_type": "code",
      "metadata": {
        "id": "ehuXzRRI_4RV",
        "colab": {
          "base_uri": "https://localhost:8080/"
        },
        "outputId": "0ec0700f-b770-4f89-c60f-aa92705174d5"
      },
      "source": [
        "predkmeans30 = predfun(kmeansA30.labels_, kmeansB30.labels_)\n",
        "crkmeans30 = classification_report(df['labelN'], predkmeans30) \n",
        "print(crkmeans30)"
      ],
      "execution_count": 27,
      "outputs": [
        {
          "output_type": "stream",
          "text": [
            "              precision    recall  f1-score   support\n",
            "\n",
            "     related       0.25      0.03      0.05      9102\n",
            "   unrelated       0.69      0.96      0.81     20898\n",
            "\n",
            "    accuracy                           0.68     30000\n",
            "   macro avg       0.47      0.50      0.43     30000\n",
            "weighted avg       0.56      0.68      0.58     30000\n",
            "\n"
          ],
          "name": "stdout"
        }
      ]
    },
    {
      "cell_type": "code",
      "metadata": {
        "id": "EgnruJQA_4RV",
        "colab": {
          "base_uri": "https://localhost:8080/"
        },
        "outputId": "f586d6e3-4748-4a5e-e8c4-f6e465aa6ef7"
      },
      "source": [
        "Counter(predkmeans30)"
      ],
      "execution_count": 28,
      "outputs": [
        {
          "output_type": "execute_result",
          "data": {
            "text/plain": [
              "Counter({'related': 1029, 'unrelated': 28971})"
            ]
          },
          "metadata": {
            "tags": []
          },
          "execution_count": 28
        }
      ]
    },
    {
      "cell_type": "code",
      "metadata": {
        "colab": {
          "base_uri": "https://localhost:8080/",
          "height": 624
        },
        "id": "e83iEYgYTi6Y",
        "outputId": "08b3c5da-0751-4aef-ef3a-eda042c4a017"
      },
      "source": [
        "fig, axs = plt.subplots(2,2)\n",
        "fig.set_size_inches(12, 10)\n",
        "\n",
        "axs[0, 0].bar(unique15, counts15, alpha = 0.5, label = 'Article A')\n",
        "axs[0, 0].bar(unique25, counts25, alpha = 0.5, label = 'Article B')\n",
        "axs[0, 0].legend(loc='upper right')\n",
        "axs[0, 0].set_title(\"Kmeans model with 5 topics\")\n",
        "#plt.show()\n",
        "\n",
        "axs[0, 1].bar(unique110, counts110, alpha = 0.5, label = 'Article A')\n",
        "axs[0, 1].bar(unique210, counts210, alpha = 0.5, label = 'Article B')\n",
        "axs[0, 1].legend(loc='upper right')\n",
        "axs[0, 1].set_title(\"Kmeans model with 10 topics\")\n",
        "#plt.show()\n",
        "\n",
        "axs[1, 0].bar(unique120, counts120, alpha = 0.5, label = 'Article A')\n",
        "axs[1, 0].bar(unique220, counts220, alpha = 0.5, label = 'Article B')\n",
        "axs[1, 0].legend(loc='upper right')\n",
        "axs[1, 0].set_title(\"Kmeans model with 20 topics\")\n",
        "#plt.show()\n",
        "\n",
        "axs[1, 1].bar(unique130, counts130, alpha = 0.5, label = 'Article A')\n",
        "axs[1, 1].bar(unique230, counts230, alpha = 0.5, label = 'Article B')\n",
        "axs[1, 1].legend(loc='upper right')\n",
        "axs[1, 1].set_title(\"Kmeans model with 30 topics\")\n",
        "#plt.show()"
      ],
      "execution_count": 38,
      "outputs": [
        {
          "output_type": "execute_result",
          "data": {
            "text/plain": [
              "Text(0.5, 1.0, 'Kmeans model with 30 topics')"
            ]
          },
          "metadata": {
            "tags": []
          },
          "execution_count": 38
        },
        {
          "output_type": "display_data",
          "data": {
            "image/png": "[encoded data removed]",
            "text/plain": [
              "<Figure size 864x720 with 4 Axes>"
            ]
          },
          "metadata": {
            "tags": [],
            "needs_background": "light"
          }
        }
      ]
    },
    {
      "cell_type": "markdown",
      "metadata": {
        "id": "ZpAC7gfX_4RV"
      },
      "source": [
        "## Gaussian Mixture Model"
      ]
    },
    {
      "cell_type": "markdown",
      "metadata": {
        "id": "tetz-eL5_4RV"
      },
      "source": [
        "Gaussian Mixture model is a probabilistic approach of k-means clustering where, the classification is done based on multivariate gaussian distribution. Here, each cluster is assumed to be in gaussian distribution and fits the mixture of gaussian models. The experiment is continued for with the same setting used for k-means"
      ]
    },
    {
      "cell_type": "code",
      "metadata": {
        "id": "ZfOdG_9a_4RV",
        "colab": {
          "base_uri": "https://localhost:8080/"
        },
        "outputId": "3ac97c1f-62b8-410e-e27e-2504fd711651"
      },
      "source": [
        "print(f'Shape of TF-idf matrix for Article A: {docsAclus.shape}')\n",
        "print(f'Shape of TF-idf matrix for Article B: {docsBclus.shape}')"
      ],
      "execution_count": 39,
      "outputs": [
        {
          "output_type": "stream",
          "text": [
            "Shape of TF-idf matrix for Article A: (30000, 8472)\n",
            "Shape of TF-idf matrix for Article B: (30000, 16913)\n"
          ],
          "name": "stdout"
        }
      ]
    },
    {
      "cell_type": "code",
      "metadata": {
        "id": "mUiR1cCB_4RV"
      },
      "source": [
        "# reduce dimensions of the vectorized matrix\n",
        "docsAtsne = TSNE(n_components=2, n_iter=500, random_state=32).fit_transform(docsAclus)\n",
        "docsBtsne = TSNE(n_components=2, n_iter=500, random_state=32).fit_transform(docsBclus)"
      ],
      "execution_count": 40,
      "outputs": []
    },
    {
      "cell_type": "code",
      "metadata": {
        "id": "Zbf6Poty_4RV",
        "colab": {
          "base_uri": "https://localhost:8080/"
        },
        "outputId": "0ae06fd5-33e3-401e-cf51-de32e360f503"
      },
      "source": [
        "print(f'Shape of TF-idf matrix for Article A: {docsAtsne.shape}')\n",
        "print(f'Shape of TF-idf matrix for Article B: {docsBtsne.shape}')"
      ],
      "execution_count": 41,
      "outputs": [
        {
          "output_type": "stream",
          "text": [
            "Shape of TF-idf matrix for Article A: (30000, 2)\n",
            "Shape of TF-idf matrix for Article B: (30000, 2)\n"
          ],
          "name": "stdout"
        }
      ]
    },
    {
      "cell_type": "code",
      "metadata": {
        "id": "C8xJG14W_4RV"
      },
      "source": [
        "def GMMfun(n_comp, docs1, docs2):\n",
        "    model1 = GaussianMixture(n_components=n_comp, random_state=0).fit_predict(docs1)\n",
        "    model2 = GaussianMixture(n_components=n_comp, random_state=0).fit_predict(docs2)\n",
        "    return model1, model2"
      ],
      "execution_count": 42,
      "outputs": []
    },
    {
      "cell_type": "code",
      "metadata": {
        "id": "Bli-tP59_4RV",
        "colab": {
          "base_uri": "https://localhost:8080/",
          "height": 294
        },
        "outputId": "35573134-c53d-48c4-bfae-0d1058e8a979"
      },
      "source": [
        "# components = 10\n",
        "GMMA10, GMMB10 = GMMfun(10, docsAtsne, docsBtsne)\n",
        "unique110, counts110 = np.unique(GMMA10, return_counts=True)\n",
        "unique210, counts210 = np.unique(GMMB10, return_counts=True)\n",
        "plt.bar(unique110, counts110, alpha = 0.5, label = 'Article A')\n",
        "plt.bar(unique210, counts210, alpha = 0.5, label = 'Article B')\n",
        "plt.legend(loc='upper right')\n",
        "plt.suptitle(\"Gaussian mixture model with 10 topics\")\n",
        "plt.show()"
      ],
      "execution_count": 43,
      "outputs": [
        {
          "output_type": "display_data",
          "data": {
            "image/png": "[encoded data removed]",
            "text/plain": [
              "<Figure size 432x288 with 1 Axes>"
            ]
          },
          "metadata": {
            "tags": [],
            "needs_background": "light"
          }
        }
      ]
    },
    {
      "cell_type": "markdown",
      "metadata": {
        "id": "lN0SXeJ3_4RW"
      },
      "source": [
        "With 10 components, "
      ]
    },
    {
      "cell_type": "code",
      "metadata": {
        "id": "3CYzEVqM_4RW",
        "colab": {
          "base_uri": "https://localhost:8080/"
        },
        "outputId": "9fb6b96c-e0be-4cb0-ad1b-f51f58d72a46"
      },
      "source": [
        "predGMM10 = predfun(GMMA10, GMMB10)\n",
        "crGMM10 = classification_report(df['labelN'], predGMM10) \n",
        "print(crGMM10)"
      ],
      "execution_count": 44,
      "outputs": [
        {
          "output_type": "stream",
          "text": [
            "              precision    recall  f1-score   support\n",
            "\n",
            "     related       0.33      0.11      0.17      9102\n",
            "   unrelated       0.70      0.90      0.79     20898\n",
            "\n",
            "    accuracy                           0.66     30000\n",
            "   macro avg       0.52      0.51      0.48     30000\n",
            "weighted avg       0.59      0.66      0.60     30000\n",
            "\n"
          ],
          "name": "stdout"
        }
      ]
    },
    {
      "cell_type": "code",
      "metadata": {
        "id": "DWYWCssL_4RW",
        "colab": {
          "base_uri": "https://localhost:8080/"
        },
        "outputId": "b56d6777-05a1-4572-e9a1-4c4ff7a28aca"
      },
      "source": [
        "Counter(predGMM10)"
      ],
      "execution_count": 45,
      "outputs": [
        {
          "output_type": "execute_result",
          "data": {
            "text/plain": [
              "Counter({'related': 3039, 'unrelated': 26961})"
            ]
          },
          "metadata": {
            "tags": []
          },
          "execution_count": 45
        }
      ]
    },
    {
      "cell_type": "code",
      "metadata": {
        "id": "7rd_4G4s_4RW",
        "colab": {
          "base_uri": "https://localhost:8080/",
          "height": 294
        },
        "outputId": "69cc015d-cbb1-4531-80af-f193bf6dabf8"
      },
      "source": [
        "# components = 20\n",
        "GMMA20, GMMB20 = GMMfun(20, docsAtsne, docsBtsne)\n",
        "unique120, counts120 = np.unique(GMMA20, return_counts=True)\n",
        "unique220, counts220 = np.unique(GMMB20, return_counts=True)\n",
        "plt.bar(unique120, counts120, alpha = 0.5, label = 'Article A')\n",
        "plt.bar(unique220, counts220, alpha = 0.5, label = 'Article B')\n",
        "plt.legend(loc='upper right')\n",
        "plt.suptitle(\"Gaussian mixture model with 20 topics\")\n",
        "plt.show()"
      ],
      "execution_count": 46,
      "outputs": [
        {
          "output_type": "display_data",
          "data": {
            "image/png": "[encoded data removed]",
            "text/plain": [
              "<Figure size 432x288 with 1 Axes>"
            ]
          },
          "metadata": {
            "tags": [],
            "needs_background": "light"
          }
        }
      ]
    },
    {
      "cell_type": "code",
      "metadata": {
        "id": "yvP1ajhV_4RW",
        "colab": {
          "base_uri": "https://localhost:8080/"
        },
        "outputId": "b6df16f4-a46b-43b4-ae22-be41026d469a"
      },
      "source": [
        "predGMM20 = predfun(GMMA20, GMMB20)\n",
        "crGMM20 = classification_report(df['labelN'], predGMM20)\n",
        "print(crGMM20)"
      ],
      "execution_count": 47,
      "outputs": [
        {
          "output_type": "stream",
          "text": [
            "              precision    recall  f1-score   support\n",
            "\n",
            "     related       0.37      0.07      0.11      9102\n",
            "   unrelated       0.70      0.95      0.81     20898\n",
            "\n",
            "    accuracy                           0.68     30000\n",
            "   macro avg       0.53      0.51      0.46     30000\n",
            "weighted avg       0.60      0.68      0.60     30000\n",
            "\n"
          ],
          "name": "stdout"
        }
      ]
    },
    {
      "cell_type": "code",
      "metadata": {
        "id": "tm5tgrf__4RW",
        "colab": {
          "base_uri": "https://localhost:8080/"
        },
        "outputId": "fc39a302-e68d-4095-f9c6-712e0b291e26"
      },
      "source": [
        "Counter(predGMM20)"
      ],
      "execution_count": 48,
      "outputs": [
        {
          "output_type": "execute_result",
          "data": {
            "text/plain": [
              "Counter({'related': 1640, 'unrelated': 28360})"
            ]
          },
          "metadata": {
            "tags": []
          },
          "execution_count": 48
        }
      ]
    },
    {
      "cell_type": "code",
      "metadata": {
        "id": "KjXi8koI_4RW",
        "colab": {
          "base_uri": "https://localhost:8080/",
          "height": 294
        },
        "outputId": "f5ce72e9-21c0-425a-e606-c35aed69a433"
      },
      "source": [
        "# components = 30\n",
        "GMMA30, GMMB30 = GMMfun(30, docsAtsne, docsBtsne)\n",
        "unique130, counts130 = np.unique(GMMA30, return_counts=True)\n",
        "unique230, counts230 = np.unique(GMMB30, return_counts=True)\n",
        "plt.bar(unique130, counts130, alpha = 0.5, label = 'Article A')\n",
        "plt.bar(unique230, counts230, alpha = 0.5, label = 'Article B')\n",
        "plt.legend(loc='upper right')\n",
        "plt.suptitle(\"Gaussian mixture model with 30 topics\")\n",
        "plt.show()"
      ],
      "execution_count": 49,
      "outputs": [
        {
          "output_type": "display_data",
          "data": {
            "image/png": "[encoded data removed]",
            "text/plain": [
              "<Figure size 432x288 with 1 Axes>"
            ]
          },
          "metadata": {
            "tags": [],
            "needs_background": "light"
          }
        }
      ]
    },
    {
      "cell_type": "code",
      "metadata": {
        "id": "Ft3e69hg_4RW",
        "colab": {
          "base_uri": "https://localhost:8080/"
        },
        "outputId": "f77a2770-10ca-478d-bb64-b3caed912aa8"
      },
      "source": [
        "predGMM30 = predfun(GMMA30, GMMB30)\n",
        "crGMM20 = classification_report(df['labelN'], predGMM30)\n",
        "print(crGMM20)"
      ],
      "execution_count": 50,
      "outputs": [
        {
          "output_type": "stream",
          "text": [
            "              precision    recall  f1-score   support\n",
            "\n",
            "     related       0.11      0.01      0.01      9102\n",
            "   unrelated       0.69      0.97      0.81     20898\n",
            "\n",
            "    accuracy                           0.68     30000\n",
            "   macro avg       0.40      0.49      0.41     30000\n",
            "weighted avg       0.52      0.68      0.57     30000\n",
            "\n"
          ],
          "name": "stdout"
        }
      ]
    },
    {
      "cell_type": "code",
      "metadata": {
        "id": "fbUGbqSh_4RW",
        "colab": {
          "base_uri": "https://localhost:8080/"
        },
        "outputId": "3756d515-2a14-4984-8a61-d7e911ee02e4"
      },
      "source": [
        "Counter(predGMM30)"
      ],
      "execution_count": 51,
      "outputs": [
        {
          "output_type": "execute_result",
          "data": {
            "text/plain": [
              "Counter({'related': 611, 'unrelated': 29389})"
            ]
          },
          "metadata": {
            "tags": []
          },
          "execution_count": 51
        }
      ]
    },
    {
      "cell_type": "code",
      "metadata": {
        "colab": {
          "base_uri": "https://localhost:8080/",
          "height": 390
        },
        "id": "tlJCd5wei83K",
        "outputId": "dcbd86be-8885-434a-e938-bb8c9f74da36"
      },
      "source": [
        "fig, axs = plt.subplots(1,3)\n",
        "fig.set_size_inches(15, 6)\n",
        "\n",
        "axs[0].bar(unique110, counts110, alpha = 0.5, label = 'Article A')\n",
        "axs[0].bar(unique210, counts210, alpha = 0.5, label = 'Article B')\n",
        "axs[0].legend(loc='upper right')\n",
        "axs[0].set_title(\"GMM model with 10 topics\")\n",
        "#plt.show()\n",
        "\n",
        "axs[1].bar(unique120, counts120, alpha = 0.5, label = 'Article A')\n",
        "axs[1].bar(unique220, counts220, alpha = 0.5, label = 'Article B')\n",
        "axs[1].legend(loc='upper right')\n",
        "axs[1].set_title(\"GMM model with 20 topics\")\n",
        "#plt.show()\n",
        "\n",
        "axs[2].bar(unique130, counts130, alpha = 0.5, label = 'Article A')\n",
        "axs[2].bar(unique230, counts230, alpha = 0.5, label = 'Article B')\n",
        "axs[2].legend(loc='upper right')\n",
        "axs[2].set_title(\"GMM model with 30 topics\")\n",
        "#\n",
        "\n",
        "fig.show()"
      ],
      "execution_count": 60,
      "outputs": [
        {
          "output_type": "display_data",
          "data": {
            "image/png": "[encoded data removed]",
            "text/plain": [
              "<Figure size 1080x432 with 3 Axes>"
            ]
          },
          "metadata": {
            "tags": [],
            "needs_background": "light"
          }
        }
      ]
    },
    {
      "cell_type": "markdown",
      "metadata": {
        "id": "7Fsq3Ozppxu-"
      },
      "source": [
        "## Latent Dirichlet Allocation"
      ]
    },
    {
      "cell_type": "code",
      "metadata": {
        "colab": {
          "base_uri": "https://localhost:8080/",
          "height": 297
        },
        "id": "IqIfUs-B_4RW",
        "outputId": "d34888b8-430b-4af8-f959-494f21065c88"
      },
      "source": [
        "trainLDA = df.copy()\n",
        "trainLDA.head(5)"
      ],
      "execution_count": 61,
      "outputs": [
        {
          "output_type": "execute_result",
          "data": {
            "text/html": [
              "<div>\n",
              "<style scoped>\n",
              "    .dataframe tbody tr th:only-of-type {\n",
              "        vertical-align: middle;\n",
              "    }\n",
              "\n",
              "    .dataframe tbody tr th {\n",
              "        vertical-align: top;\n",
              "    }\n",
              "\n",
              "    .dataframe thead th {\n",
              "        text-align: right;\n",
              "    }\n",
              "</style>\n",
              "<table border=\"1\" class=\"dataframe\">\n",
              "  <thead>\n",
              "    <tr style=\"text-align: right;\">\n",
              "      <th></th>\n",
              "      <th>Unnamed: 0</th>\n",
              "      <th>id</th>\n",
              "      <th>tid1</th>\n",
              "      <th>tid2</th>\n",
              "      <th>title1_en</th>\n",
              "      <th>title2_en</th>\n",
              "      <th>labelN</th>\n",
              "      <th>docA</th>\n",
              "      <th>docB</th>\n",
              "    </tr>\n",
              "  </thead>\n",
              "  <tbody>\n",
              "    <tr>\n",
              "      <th>0</th>\n",
              "      <td>0</td>\n",
              "      <td>0</td>\n",
              "      <td>0</td>\n",
              "      <td>1</td>\n",
              "      <td>There are two new old-age insurance benefits f...</td>\n",
              "      <td>Police disprove \"bird's nest congress each per...</td>\n",
              "      <td>unrelated</td>\n",
              "      <td>['new', 'old', 'age', 'insurance', 'benefit', ...</td>\n",
              "      <td>['Police', 'disprove', 'bird', 'nest', 'congre...</td>\n",
              "    </tr>\n",
              "    <tr>\n",
              "      <th>1</th>\n",
              "      <td>1</td>\n",
              "      <td>3</td>\n",
              "      <td>2</td>\n",
              "      <td>3</td>\n",
              "      <td>\"If you do not come to Shenzhen, sooner or lat...</td>\n",
              "      <td>Shenzhen's GDP outstrips Hong Kong? Shenzhen S...</td>\n",
              "      <td>unrelated</td>\n",
              "      <td>['come', 'Shenzhen', 'sooner', 'later', 'son',...</td>\n",
              "      <td>['Shenzhen', 'gdp', 'outstrip', 'Hong', 'Kong'...</td>\n",
              "    </tr>\n",
              "    <tr>\n",
              "      <th>2</th>\n",
              "      <td>2</td>\n",
              "      <td>1</td>\n",
              "      <td>2</td>\n",
              "      <td>4</td>\n",
              "      <td>\"If you do not come to Shenzhen, sooner or lat...</td>\n",
              "      <td>The GDP overtopped Hong Kong? Shenzhen clarifi...</td>\n",
              "      <td>unrelated</td>\n",
              "      <td>['come', 'Shenzhen', 'sooner', 'later', 'son',...</td>\n",
              "      <td>['GDP', 'overtop', 'Hong', 'Kong', 'Shenzhen',...</td>\n",
              "    </tr>\n",
              "    <tr>\n",
              "      <th>3</th>\n",
              "      <td>3</td>\n",
              "      <td>2</td>\n",
              "      <td>2</td>\n",
              "      <td>5</td>\n",
              "      <td>\"If you do not come to Shenzhen, sooner or lat...</td>\n",
              "      <td>Shenzhen's GDP topped Hong Kong last year? She...</td>\n",
              "      <td>unrelated</td>\n",
              "      <td>['come', 'Shenzhen', 'sooner', 'later', 'son',...</td>\n",
              "      <td>['Shenzhen', 'gdp', 'top', 'Hong', 'Kong', 'ye...</td>\n",
              "    </tr>\n",
              "    <tr>\n",
              "      <th>4</th>\n",
              "      <td>4</td>\n",
              "      <td>9</td>\n",
              "      <td>6</td>\n",
              "      <td>7</td>\n",
              "      <td>\"How to discriminate oil from gutter oil by me...</td>\n",
              "      <td>It took 30 years of cooking oil to know that o...</td>\n",
              "      <td>related</td>\n",
              "      <td>['discriminate', 'oil', 'gutter', 'oil', 'mean...</td>\n",
              "      <td>['take', 'year', 'cook', 'oil', 'know', 'piece...</td>\n",
              "    </tr>\n",
              "  </tbody>\n",
              "</table>\n",
              "</div>"
            ],
            "text/plain": [
              "   Unnamed: 0  ...                                               docB\n",
              "0           0  ...  ['Police', 'disprove', 'bird', 'nest', 'congre...\n",
              "1           1  ...  ['Shenzhen', 'gdp', 'outstrip', 'Hong', 'Kong'...\n",
              "2           2  ...  ['GDP', 'overtop', 'Hong', 'Kong', 'Shenzhen',...\n",
              "3           3  ...  ['Shenzhen', 'gdp', 'top', 'Hong', 'Kong', 'ye...\n",
              "4           4  ...  ['take', 'year', 'cook', 'oil', 'know', 'piece...\n",
              "\n",
              "[5 rows x 9 columns]"
            ]
          },
          "metadata": {
            "tags": []
          },
          "execution_count": 61
        }
      ]
    },
    {
      "cell_type": "code",
      "metadata": {
        "id": "QpFyt_WP_4RX"
      },
      "source": [
        "\n",
        "# Create a dictionary representation of the documents.\n",
        "\n",
        "dictionaryA = Dictionary([trainLDA['docA']])\n",
        "dictionaryB = Dictionary([trainLDA['docB']])\n",
        "# Filter out words that occur less than 20 documents, or more than 50% of the documents.\n",
        "# dictionaryA.filter_extremes(no_below=20, no_above=0.5)\n",
        "# dictionaryB.filter_extremes(no_below=20, no_above=0.5)\n",
        "\n",
        "\n",
        "corpusA = [dictionaryA.doc2bow([doc]) for doc in trainLDA['docA']]\n",
        "corpusB = [dictionaryB.doc2bow([doc]) for doc in trainLDA['docB']]"
      ],
      "execution_count": 65,
      "outputs": []
    },
    {
      "cell_type": "code",
      "metadata": {
        "colab": {
          "base_uri": "https://localhost:8080/"
        },
        "id": "a7ZUkzDc_4RX",
        "outputId": "75f0e027-5aa0-42e8-9944-ad533df93acf"
      },
      "source": [
        "print('Number of unique tokens in article A: %d' % len(dictionaryA))\n",
        "print('Number of documents in article A: %d' % len(corpusA))\n",
        "\n",
        "print('Number of unique tokens in article B: %d' % len(dictionaryB))\n",
        "print('Number of documents in article B: %d' % len(corpusB))"
      ],
      "execution_count": 66,
      "outputs": [
        {
          "output_type": "stream",
          "text": [
            "Number of unique tokens in article A: 6109\n",
            "Number of documents in article A: 30000\n",
            "Number of unique tokens in article B: 22251\n",
            "Number of documents in article B: 30000\n"
          ],
          "name": "stdout"
        }
      ]
    },
    {
      "cell_type": "code",
      "metadata": {
        "colab": {
          "base_uri": "https://localhost:8080/"
        },
        "id": "54nXHg1U_4RX",
        "outputId": "8a8d4fe4-3b7f-424c-d9ac-2ff64140be26"
      },
      "source": [
        "# Number of topics = 10\n",
        "# for article A\n",
        "num_topics = 10\n",
        "chunksize = 2000\n",
        "passes = 20\n",
        "iterations = 400\n",
        "eval_every = None\n",
        "temp = dictionaryA[0]  # This is only to \"load\" the dictionary.\n",
        "id2word = dictionaryA.id2token\n",
        "\n",
        "LDA10A = LdaModel(\n",
        "    corpus=corpusA,\n",
        "    id2word=id2word,\n",
        "    chunksize=chunksize,\n",
        "    alpha='auto',\n",
        "    eta='auto',\n",
        "    iterations=iterations,\n",
        "    num_topics=num_topics,\n",
        "    passes=passes,\n",
        "    eval_every=eval_every\n",
        ")\n",
        "\n",
        "# for article A\n",
        "num_topics = 10\n",
        "chunksize = 2000\n",
        "passes = 20\n",
        "iterations = 400\n",
        "eval_every = None\n",
        "temp = dictionaryB[0]  # This is only to \"load\" the dictionary.\n",
        "id2word = dictionaryB.id2token\n",
        "\n",
        "\n",
        "LDA10B = LdaModel(\n",
        "    corpus=corpusA,\n",
        "    id2word=id2word,\n",
        "    chunksize=chunksize,\n",
        "    alpha='auto',\n",
        "    eta='auto',\n",
        "    iterations=iterations,\n",
        "    num_topics=num_topics,\n",
        "    passes=passes,\n",
        "    eval_every=eval_every\n",
        ")\n"
      ],
      "execution_count": 67,
      "outputs": [
        {
          "output_type": "stream",
          "text": [
            "/usr/local/lib/python3.7/dist-packages/gensim/models/ldamodel.py:1023: RuntimeWarning: divide by zero encountered in log\n",
            "  diff = np.log(self.expElogbeta)\n"
          ],
          "name": "stderr"
        }
      ]
    },
    {
      "cell_type": "code",
      "metadata": {
        "id": "_5J2Lj_O_4RX"
      },
      "source": [
        "labelsLDA10A = []\n",
        "labelsLDA10B = []\n",
        "for i in range(len(corpusA)):\n",
        "    labelsLDA10A.append(max(dict(LDA10A[corpusA[i]]), key=dict(LDA10A[corpusA[i]]).get))\n",
        "    labelsLDA10B.append(max(dict(LDA10B[corpusB[i]]), key=dict(LDA10B[corpusB[i]]).get))"
      ],
      "execution_count": 68,
      "outputs": []
    },
    {
      "cell_type": "code",
      "metadata": {
        "id": "ghPh2BYm_4RX",
        "colab": {
          "base_uri": "https://localhost:8080/",
          "height": 294
        },
        "outputId": "eb79dcec-eb0e-4e98-bc33-6c4bd48295f0"
      },
      "source": [
        "unique110, counts110 = np.unique(labelsLDA10A, return_counts=True)\n",
        "unique210, counts210 = np.unique(labelsLDA10B, return_counts=True)\n",
        "plt.bar(unique110, counts110, alpha = 0.5, label = 'Article A')\n",
        "plt.bar(unique210, counts210, alpha = 0.5, label = 'Article B')\n",
        "plt.legend(loc='upper right')\n",
        "plt.suptitle(\"LDA model with 10 topics\")\n",
        "plt.show()"
      ],
      "execution_count": 69,
      "outputs": [
        {
          "output_type": "display_data",
          "data": {
            "image/png": "[encoded data removed]",
            "text/plain": [
              "<Figure size 432x288 with 1 Axes>"
            ]
          },
          "metadata": {
            "tags": [],
            "needs_background": "light"
          }
        }
      ]
    },
    {
      "cell_type": "code",
      "metadata": {
        "id": "VIn59IA0_4RX",
        "colab": {
          "base_uri": "https://localhost:8080/"
        },
        "outputId": "4cbf65c3-ffcd-4d3e-d20e-2d2d0c9949f9"
      },
      "source": [
        "predLDA10 = predfun(labelsLDA10A, labelsLDA10B)\n",
        "crLDA10 = classification_report(trainLDA['labelN'], predLDA10)\n",
        "print(crLDA10)"
      ],
      "execution_count": 70,
      "outputs": [
        {
          "output_type": "stream",
          "text": [
            "              precision    recall  f1-score   support\n",
            "\n",
            "     related       0.32      0.08      0.13      9102\n",
            "   unrelated       0.70      0.93      0.80     20898\n",
            "\n",
            "    accuracy                           0.67     30000\n",
            "   macro avg       0.51      0.50      0.46     30000\n",
            "weighted avg       0.58      0.67      0.59     30000\n",
            "\n"
          ],
          "name": "stdout"
        }
      ]
    },
    {
      "cell_type": "code",
      "metadata": {
        "id": "h9VnaqNj_4RX"
      },
      "source": [
        "# Number of topics = 20\n",
        "# for article A\n",
        "num_topics = 20\n",
        "chunksize = 2000\n",
        "passes = 20\n",
        "iterations = 400\n",
        "eval_every = None\n",
        "temp = dictionaryA[0]  # This is only to \"load\" the dictionary.\n",
        "id2word = dictionaryA.id2token\n",
        "\n",
        "LDA20A = LdaModel(\n",
        "    corpus=corpusA,\n",
        "    id2word=id2word,\n",
        "    chunksize=chunksize,\n",
        "    alpha='auto',\n",
        "    eta='auto',\n",
        "    iterations=iterations,\n",
        "    num_topics=num_topics,\n",
        "    passes=passes,\n",
        "    eval_every=eval_every\n",
        ")\n",
        "\n",
        "# for article A\n",
        "num_topics = 20\n",
        "chunksize = 2000\n",
        "passes = 20\n",
        "iterations = 400\n",
        "eval_every = None\n",
        "temp = dictionaryB[0]  # This is only to \"load\" the dictionary.\n",
        "id2word = dictionaryB.id2token\n",
        "\n",
        "\n",
        "LDA20B = LDA10A = LdaModel(\n",
        "    corpus=corpusA,\n",
        "    id2word=id2word,\n",
        "    chunksize=chunksize,\n",
        "    alpha='auto',\n",
        "    eta='auto',\n",
        "    iterations=iterations,\n",
        "    num_topics=num_topics,\n",
        "    passes=passes,\n",
        "    eval_every=eval_every\n",
        ")\n"
      ],
      "execution_count": 71,
      "outputs": []
    },
    {
      "cell_type": "code",
      "metadata": {
        "id": "IaR5DflP_4RX"
      },
      "source": [
        "labelsLDA20A = []\n",
        "labelsLDA20B = []\n",
        "for i in range(len(corpusA)):\n",
        "    labelsLDA20A.append(max(dict(LDA20A[corpusA[i]]), key=dict(LDA20A[corpusA[i]]).get))\n",
        "    labelsLDA20B.append(max(dict(LDA20B[corpusB[i]]), key=dict(LDA20B[corpusB[i]]).get))"
      ],
      "execution_count": 72,
      "outputs": []
    },
    {
      "cell_type": "code",
      "metadata": {
        "id": "0Ccd0Sne_4RX",
        "colab": {
          "base_uri": "https://localhost:8080/",
          "height": 294
        },
        "outputId": "b37f220e-2653-43fd-c7d9-603fa3f3683b"
      },
      "source": [
        "unique120, counts120 = np.unique(labelsLDA20A, return_counts=True)\n",
        "unique220, counts220 = np.unique(labelsLDA20B, return_counts=True)\n",
        "plt.bar(unique120, counts120, alpha = 0.5, label = 'Article A')\n",
        "plt.bar(unique220, counts220, alpha = 0.5, label = 'Article B')\n",
        "plt.legend(loc='upper right')\n",
        "plt.suptitle(\"LDA model with 20 topics\")\n",
        "plt.show()"
      ],
      "execution_count": 73,
      "outputs": [
        {
          "output_type": "display_data",
          "data": {
            "image/png": "[encoded data removed]",
            "text/plain": [
              "<Figure size 432x288 with 1 Axes>"
            ]
          },
          "metadata": {
            "tags": [],
            "needs_background": "light"
          }
        }
      ]
    },
    {
      "cell_type": "code",
      "metadata": {
        "id": "RF2CW4z3_4RY",
        "colab": {
          "base_uri": "https://localhost:8080/"
        },
        "outputId": "51618bcb-a097-4feb-dc2a-f209cfc3dbc6"
      },
      "source": [
        "predLDA20 = predfun(labelsLDA20A, labelsLDA20B)\n",
        "crLDA20 = classification_report(trainLDA['labelN'], predLDA20)\n",
        "print(crLDA20)"
      ],
      "execution_count": 74,
      "outputs": [
        {
          "output_type": "stream",
          "text": [
            "              precision    recall  f1-score   support\n",
            "\n",
            "     related       0.27      0.04      0.07      9102\n",
            "   unrelated       0.69      0.95      0.80     20898\n",
            "\n",
            "    accuracy                           0.67     30000\n",
            "   macro avg       0.48      0.50      0.44     30000\n",
            "weighted avg       0.57      0.67      0.58     30000\n",
            "\n"
          ],
          "name": "stdout"
        }
      ]
    },
    {
      "cell_type": "code",
      "metadata": {
        "id": "QrnSPhMe_4RY",
        "colab": {
          "base_uri": "https://localhost:8080/"
        },
        "outputId": "90a952c1-c1b4-4af7-e1b4-5e55011b9799"
      },
      "source": [
        "# Number of topics = 30\n",
        "# for article A\n",
        "num_topics = 30\n",
        "chunksize = 2000\n",
        "passes = 20\n",
        "iterations = 400\n",
        "eval_every = None\n",
        "temp = dictionaryA[0]  # This is only to \"load\" the dictionary.\n",
        "id2word = dictionaryA.id2token\n",
        "\n",
        "LDA30A = LdaModel(\n",
        "    corpus=corpusA,\n",
        "    id2word=id2word,\n",
        "    chunksize=chunksize,\n",
        "    alpha='auto',\n",
        "    eta='auto',\n",
        "    iterations=iterations,\n",
        "    num_topics=num_topics,\n",
        "    passes=passes,\n",
        "    eval_every=eval_every\n",
        ")\n",
        "\n",
        "# for article B\n",
        "num_topics = 30\n",
        "chunksize = 2000\n",
        "passes = 20\n",
        "iterations = 400\n",
        "eval_every = None\n",
        "temp = dictionaryB[0]  # This is only to \"load\" the dictionary.\n",
        "id2word = dictionaryB.id2token\n",
        "\n",
        "\n",
        "LDA30B = LdaModel(\n",
        "    corpus=corpusA,\n",
        "    id2word=id2word,\n",
        "    chunksize=chunksize,\n",
        "    alpha='auto',\n",
        "    eta='auto',\n",
        "    iterations=iterations,\n",
        "    num_topics=num_topics,\n",
        "    passes=passes,\n",
        "    eval_every=eval_every\n",
        ")\n"
      ],
      "execution_count": 75,
      "outputs": [
        {
          "output_type": "stream",
          "text": [
            "/usr/local/lib/python3.7/dist-packages/gensim/models/ldamodel.py:1023: RuntimeWarning: divide by zero encountered in log\n",
            "  diff = np.log(self.expElogbeta)\n"
          ],
          "name": "stderr"
        }
      ]
    },
    {
      "cell_type": "code",
      "metadata": {
        "id": "vNL1dwYI_4RY"
      },
      "source": [
        "labelsLDA30A = []\n",
        "labelsLDA30B = []\n",
        "for i in range(len(corpusA)):\n",
        "    labelsLDA30A.append(max(dict(LDA30A[corpusA[i]]), key=dict(LDA30A[corpusA[i]]).get))\n",
        "    labelsLDA30B.append(max(dict(LDA30B[corpusB[i]]), key=dict(LDA30B[corpusB[i]]).get))"
      ],
      "execution_count": 76,
      "outputs": []
    },
    {
      "cell_type": "code",
      "metadata": {
        "id": "KVInC4Nf_4RY",
        "colab": {
          "base_uri": "https://localhost:8080/",
          "height": 294
        },
        "outputId": "1e3297f7-3644-4753-b1d5-7eac877a6483"
      },
      "source": [
        "unique130, counts130 = np.unique(labelsLDA30A, return_counts=True)\n",
        "unique230, counts230 = np.unique(labelsLDA30B, return_counts=True)\n",
        "plt.bar(unique130, counts130, alpha = 0.5, label = 'Article A')\n",
        "plt.bar(unique230, counts230, alpha = 0.5, label = 'Article B')\n",
        "plt.legend(loc='upper right')\n",
        "plt.suptitle(\"LDA model with 30 topics\")\n",
        "plt.show()"
      ],
      "execution_count": 77,
      "outputs": [
        {
          "output_type": "display_data",
          "data": {
            "image/png": "[encoded data removed]",
            "text/plain": [
              "<Figure size 432x288 with 1 Axes>"
            ]
          },
          "metadata": {
            "tags": [],
            "needs_background": "light"
          }
        }
      ]
    },
    {
      "cell_type": "code",
      "metadata": {
        "id": "9aYTFlnU_4RY",
        "colab": {
          "base_uri": "https://localhost:8080/"
        },
        "outputId": "9b7b39ec-21b9-41da-98f8-51553bc149fb"
      },
      "source": [
        "predLDA30 = predfun(labelsLDA30A, labelsLDA30B)\n",
        "crLDA30 = classification_report(trainLDA['labelN'], predLDA30)\n",
        "print(crLDA30)"
      ],
      "execution_count": 78,
      "outputs": [
        {
          "output_type": "stream",
          "text": [
            "              precision    recall  f1-score   support\n",
            "\n",
            "     related       0.41      0.04      0.07      9102\n",
            "   unrelated       0.70      0.98      0.82     20898\n",
            "\n",
            "    accuracy                           0.69     30000\n",
            "   macro avg       0.56      0.51      0.44     30000\n",
            "weighted avg       0.61      0.69      0.59     30000\n",
            "\n"
          ],
          "name": "stdout"
        }
      ]
    },
    {
      "cell_type": "code",
      "metadata": {
        "colab": {
          "base_uri": "https://localhost:8080/",
          "height": 335
        },
        "id": "T5RVhFsmpxHt",
        "outputId": "9e669571-8778-4450-f621-aacab8d8c4d6"
      },
      "source": [
        "fig, axs = plt.subplots(1,3)\n",
        "fig.set_size_inches(15, 5)\n",
        "\n",
        "axs[0].bar(unique110, counts110, alpha = 0.5, label = 'Article A')\n",
        "axs[0].bar(unique210, counts210, alpha = 0.5, label = 'Article B')\n",
        "axs[0].legend(loc='upper right')\n",
        "axs[0].set_title(\"LDA model with 10 topics\")\n",
        "#plt.show()\n",
        "\n",
        "axs[1].bar(unique120, counts120, alpha = 0.5, label = 'Article A')\n",
        "axs[1].bar(unique220, counts220, alpha = 0.5, label = 'Article B')\n",
        "axs[1].legend(loc='upper right')\n",
        "axs[1].set_title(\"LDA model with 20 topics\")\n",
        "#plt.show()\n",
        "\n",
        "axs[2].bar(unique130, counts130, alpha = 0.5, label = 'Article A')\n",
        "axs[2].bar(unique230, counts230, alpha = 0.5, label = 'Article B')\n",
        "axs[2].legend(loc='upper right')\n",
        "axs[2].set_title(\"LDA model with 30 topics\")\n",
        "#\n",
        "\n",
        "fig.show()"
      ],
      "execution_count": 79,
      "outputs": [
        {
          "output_type": "display_data",
          "data": {
            "image/png": "[encoded data removed]",
            "text/plain": [
              "<Figure size 1080x360 with 3 Axes>"
            ]
          },
          "metadata": {
            "tags": [],
            "needs_background": "light"
          }
        }
      ]
    },
    {
      "cell_type": "markdown",
      "metadata": {
        "id": "RgiQZAFh5MS9"
      },
      "source": [
        "# Semantic-based Approches - Embedding "
      ]
    },
    {
      "cell_type": "markdown",
      "metadata": {
        "id": "Xe7JW49L9nRd"
      },
      "source": [
        "## Word2Vec - Semantic similarity"
      ]
    },
    {
      "cell_type": "code",
      "metadata": {
        "id": "Z2UcMKNJMZvo"
      },
      "source": [
        "df = pd.read_csv('data_preprocessed.csv')"
      ],
      "execution_count": 8,
      "outputs": []
    },
    {
      "cell_type": "code",
      "metadata": {
        "colab": {
          "base_uri": "https://localhost:8080/",
          "height": 297
        },
        "id": "a3yTmz8p_4RZ",
        "outputId": "ea6fb6d0-ec11-4e4b-b151-588853a7afbe"
      },
      "source": [
        "trainSim = df.copy()\n",
        "trainSim.head(5)"
      ],
      "execution_count": 10,
      "outputs": [
        {
          "output_type": "execute_result",
          "data": {
            "text/html": [
              "<div>\n",
              "<style scoped>\n",
              "    .dataframe tbody tr th:only-of-type {\n",
              "        vertical-align: middle;\n",
              "    }\n",
              "\n",
              "    .dataframe tbody tr th {\n",
              "        vertical-align: top;\n",
              "    }\n",
              "\n",
              "    .dataframe thead th {\n",
              "        text-align: right;\n",
              "    }\n",
              "</style>\n",
              "<table border=\"1\" class=\"dataframe\">\n",
              "  <thead>\n",
              "    <tr style=\"text-align: right;\">\n",
              "      <th></th>\n",
              "      <th>Unnamed: 0</th>\n",
              "      <th>id</th>\n",
              "      <th>tid1</th>\n",
              "      <th>tid2</th>\n",
              "      <th>title1_en</th>\n",
              "      <th>title2_en</th>\n",
              "      <th>labelN</th>\n",
              "      <th>docA</th>\n",
              "      <th>docB</th>\n",
              "    </tr>\n",
              "  </thead>\n",
              "  <tbody>\n",
              "    <tr>\n",
              "      <th>0</th>\n",
              "      <td>0</td>\n",
              "      <td>0</td>\n",
              "      <td>0</td>\n",
              "      <td>1</td>\n",
              "      <td>There are two new old-age insurance benefits f...</td>\n",
              "      <td>Police disprove \"bird's nest congress each per...</td>\n",
              "      <td>unrelated</td>\n",
              "      <td>['new', 'old', 'age', 'insurance', 'benefit', ...</td>\n",
              "      <td>['Police', 'disprove', 'bird', 'nest', 'congre...</td>\n",
              "    </tr>\n",
              "    <tr>\n",
              "      <th>1</th>\n",
              "      <td>1</td>\n",
              "      <td>3</td>\n",
              "      <td>2</td>\n",
              "      <td>3</td>\n",
              "      <td>\"If you do not come to Shenzhen, sooner or lat...</td>\n",
              "      <td>Shenzhen's GDP outstrips Hong Kong? Shenzhen S...</td>\n",
              "      <td>unrelated</td>\n",
              "      <td>['come', 'Shenzhen', 'sooner', 'later', 'son',...</td>\n",
              "      <td>['Shenzhen', 'gdp', 'outstrip', 'Hong', 'Kong'...</td>\n",
              "    </tr>\n",
              "    <tr>\n",
              "      <th>2</th>\n",
              "      <td>2</td>\n",
              "      <td>1</td>\n",
              "      <td>2</td>\n",
              "      <td>4</td>\n",
              "      <td>\"If you do not come to Shenzhen, sooner or lat...</td>\n",
              "      <td>The GDP overtopped Hong Kong? Shenzhen clarifi...</td>\n",
              "      <td>unrelated</td>\n",
              "      <td>['come', 'Shenzhen', 'sooner', 'later', 'son',...</td>\n",
              "      <td>['GDP', 'overtop', 'Hong', 'Kong', 'Shenzhen',...</td>\n",
              "    </tr>\n",
              "    <tr>\n",
              "      <th>3</th>\n",
              "      <td>3</td>\n",
              "      <td>2</td>\n",
              "      <td>2</td>\n",
              "      <td>5</td>\n",
              "      <td>\"If you do not come to Shenzhen, sooner or lat...</td>\n",
              "      <td>Shenzhen's GDP topped Hong Kong last year? She...</td>\n",
              "      <td>unrelated</td>\n",
              "      <td>['come', 'Shenzhen', 'sooner', 'later', 'son',...</td>\n",
              "      <td>['Shenzhen', 'gdp', 'top', 'Hong', 'Kong', 'ye...</td>\n",
              "    </tr>\n",
              "    <tr>\n",
              "      <th>4</th>\n",
              "      <td>4</td>\n",
              "      <td>9</td>\n",
              "      <td>6</td>\n",
              "      <td>7</td>\n",
              "      <td>\"How to discriminate oil from gutter oil by me...</td>\n",
              "      <td>It took 30 years of cooking oil to know that o...</td>\n",
              "      <td>related</td>\n",
              "      <td>['discriminate', 'oil', 'gutter', 'oil', 'mean...</td>\n",
              "      <td>['take', 'year', 'cook', 'oil', 'know', 'piece...</td>\n",
              "    </tr>\n",
              "  </tbody>\n",
              "</table>\n",
              "</div>"
            ],
            "text/plain": [
              "   Unnamed: 0  ...                                               docB\n",
              "0           0  ...  ['Police', 'disprove', 'bird', 'nest', 'congre...\n",
              "1           1  ...  ['Shenzhen', 'gdp', 'outstrip', 'Hong', 'Kong'...\n",
              "2           2  ...  ['GDP', 'overtop', 'Hong', 'Kong', 'Shenzhen',...\n",
              "3           3  ...  ['Shenzhen', 'gdp', 'top', 'Hong', 'Kong', 'ye...\n",
              "4           4  ...  ['take', 'year', 'cook', 'oil', 'know', 'piece...\n",
              "\n",
              "[5 rows x 9 columns]"
            ]
          },
          "metadata": {
            "tags": []
          },
          "execution_count": 10
        }
      ]
    },
    {
      "cell_type": "code",
      "metadata": {
        "id": "rDhsUsED2D5P"
      },
      "source": [
        "# def simple_similarity(doc1, doc2):\n",
        "#   return nlp(doc1).similarity(nlp(doc2))\n",
        "\n",
        "def simple_similarity(data, threshold):\n",
        "  simPred = []\n",
        "  for row in data.itertuples():\n",
        "    sim = nlp(row.title1_en).similarity(nlp(row.title2_en))\n",
        "    if sim >threshold:\n",
        "      simPred.append('related')\n",
        "    else:\n",
        "      simPred.append('unrelated')\n",
        "  return simPred"
      ],
      "execution_count": 82,
      "outputs": []
    },
    {
      "cell_type": "code",
      "metadata": {
        "colab": {
          "base_uri": "https://localhost:8080/"
        },
        "id": "RwfSnL3W7JQJ",
        "outputId": "1c4719b7-fe9e-4843-9ded-99f869835f4e"
      },
      "source": [
        "for row in trainSim[:4].itertuples():\n",
        "  print(nlp(row.title1_en).similarity(nlp(row.title2_en)))"
      ],
      "execution_count": 87,
      "outputs": [
        {
          "output_type": "stream",
          "text": [
            "0.8650409639154647\n",
            "0.7679156402609217\n",
            "0.805876120360961\n",
            "0.7494941460216636\n"
          ],
          "name": "stdout"
        }
      ]
    },
    {
      "cell_type": "code",
      "metadata": {
        "colab": {
          "base_uri": "https://localhost:8080/",
          "height": 685
        },
        "id": "-j1_WC5U3NHZ",
        "outputId": "15f7c707-88c2-4995-b03d-fc5953af71ed"
      },
      "source": [
        "# threshold = 0.9\n",
        "simPred = simple_similarity(trainSim, 0.9) "
      ],
      "execution_count": 88,
      "outputs": [
        {
          "output_type": "stream",
          "text": [
            "/usr/lib/python3.7/runpy.py:193: UserWarning: [W008] Evaluating Doc.similarity based on empty vectors.\n",
            "  \"__main__\", mod_spec)\n",
            "/usr/lib/python3.7/runpy.py:193: UserWarning: [W008] Evaluating Doc.similarity based on empty vectors.\n",
            "  \"__main__\", mod_spec)\n",
            "/usr/lib/python3.7/runpy.py:193: UserWarning: [W008] Evaluating Doc.similarity based on empty vectors.\n",
            "  \"__main__\", mod_spec)\n",
            "/usr/lib/python3.7/runpy.py:193: UserWarning: [W008] Evaluating Doc.similarity based on empty vectors.\n",
            "  \"__main__\", mod_spec)\n",
            "/usr/lib/python3.7/runpy.py:193: UserWarning: [W008] Evaluating Doc.similarity based on empty vectors.\n",
            "  \"__main__\", mod_spec)\n",
            "/usr/lib/python3.7/runpy.py:193: UserWarning: [W008] Evaluating Doc.similarity based on empty vectors.\n",
            "  \"__main__\", mod_spec)\n",
            "No handles with labels found to put in legend.\n"
          ],
          "name": "stderr"
        },
        {
          "output_type": "display_data",
          "data": {
            "image/png": "[encoded data removed]",
            "text/plain": [
              "<Figure size 432x288 with 1 Axes>"
            ]
          },
          "metadata": {
            "tags": [],
            "needs_background": "light"
          }
        },
        {
          "output_type": "stream",
          "text": [
            "              precision    recall  f1-score   support\n",
            "\n",
            "     related       0.58      0.61      0.59      9102\n",
            "   unrelated       0.82      0.80      0.81     20898\n",
            "\n",
            "    accuracy                           0.74     30000\n",
            "   macro avg       0.70      0.71      0.70     30000\n",
            "weighted avg       0.75      0.74      0.75     30000\n",
            "\n"
          ],
          "name": "stdout"
        }
      ]
    },
    {
      "cell_type": "code",
      "metadata": {
        "colab": {
          "base_uri": "https://localhost:8080/",
          "height": 454
        },
        "id": "37eRey29Bc_X",
        "outputId": "d9482c0d-b47a-4fc1-a830-45e813593aa4"
      },
      "source": [
        "unique1, counts1 = np.unique(trainSim['labelN'], return_counts=True)\n",
        "unique2, counts2 = np.unique(simPred, return_counts=True)\n",
        "plt.bar(unique1, counts1, alpha = 0.5, color = 'blue', label = \"True\")\n",
        "plt.bar(unique2, counts2, alpha = 0.5, color = 'red', label = \"Similarity Based\")\n",
        "plt.legend(loc='upper left')\n",
        "plt.suptitle(\"Word2Vec Cosine Similarity Comparison\")\n",
        "plt.show()\n",
        "\n",
        "\n",
        "crSim = classification_report(trainSim['labelN'], simPred) \n",
        "print(crSim)\n"
      ],
      "execution_count": 98,
      "outputs": [
        {
          "output_type": "display_data",
          "data": {
            "image/png": "[encoded data removed]",
            "text/plain": [
              "<Figure size 432x288 with 1 Axes>"
            ]
          },
          "metadata": {
            "tags": [],
            "needs_background": "light"
          }
        },
        {
          "output_type": "stream",
          "text": [
            "              precision    recall  f1-score   support\n",
            "\n",
            "     related       0.58      0.61      0.59      9102\n",
            "   unrelated       0.82      0.80      0.81     20898\n",
            "\n",
            "    accuracy                           0.74     30000\n",
            "   macro avg       0.70      0.71      0.70     30000\n",
            "weighted avg       0.75      0.74      0.75     30000\n",
            "\n"
          ],
          "name": "stdout"
        }
      ]
    },
    {
      "cell_type": "code",
      "metadata": {
        "id": "d390_VgK7E5i"
      },
      "source": [
        "# simple_sim = pd.DataFrame({'scores': simPred})\n",
        "# simple_sim.to_csv('simpleSimilarity.csv')"
      ],
      "execution_count": null,
      "outputs": []
    },
    {
      "cell_type": "markdown",
      "metadata": {
        "id": "zLjK_b7ASgGM"
      },
      "source": [
        "## Using word2vec and Transformer"
      ]
    },
    {
      "cell_type": "code",
      "metadata": {
        "id": "oHouRvAIS68x"
      },
      "source": [
        "from functools import reduce\n",
        "def transformer(sentence):\n",
        "        return reduce(lambda x,y: x+y, [nlp.vocab[w].vector for w in sentence])\n",
        "\n",
        "def cosine_sim(arr1, arr2):\n",
        "  return np.dot(arr1, arr2) / (np.linalg.norm(arr1) * np.linalg.norm(arr2))\n",
        "\n",
        "def similarity(doc1, doc2):\n",
        "  doc1arr = transformer(doc1)\n",
        "  doc2arr = transformer(doc2)\n",
        "  return cosine_sim(doc1arr, doc2arr) \n",
        "\n",
        "\n",
        "def similarity_predict(data, threshold):\n",
        "  simPred = []\n",
        "  for row in data.itertuples():\n",
        "    sim = similarity(row.docA, row.docB)\n",
        "    if sim >threshold:\n",
        "      simPred.append('related')\n",
        "    else:\n",
        "      simPred.append('unrelated')\n",
        "  return simPred"
      ],
      "execution_count": 90,
      "outputs": []
    },
    {
      "cell_type": "code",
      "metadata": {
        "id": "oiehp037TGVT",
        "colab": {
          "base_uri": "https://localhost:8080/",
          "height": 472
        },
        "outputId": "074454b5-f427-42bc-b550-d36e4acf284c"
      },
      "source": [
        "# for threshold 0.5\n",
        "simPred5 = similarity_predict(trainSim, 0.5)\n",
        "\n",
        "\n",
        "unique1, counts1 = np.unique(trainSim['labelN'], return_counts=True)\n",
        "unique2, counts2 = np.unique(simPred5, return_counts=True)\n",
        "plt.bar(unique1, counts1, alpha = 0.5, color = 'blue')\n",
        "plt.bar(unique2, counts2, alpha = 0.5, color = 'red')\n",
        "plt.legend(loc='upper right')\n",
        "plt.suptitle(\"Cosine Similarity Vector\")\n",
        "plt.show()\n",
        "\n",
        "\n",
        "crSim = classification_report(trainSim['labelN'], simPred5) \n",
        "print(crSim)"
      ],
      "execution_count": 91,
      "outputs": [
        {
          "output_type": "stream",
          "text": [
            "No handles with labels found to put in legend.\n"
          ],
          "name": "stderr"
        },
        {
          "output_type": "display_data",
          "data": {
            "image/png": "[encoded data removed]",
            "text/plain": [
              "<Figure size 432x288 with 1 Axes>"
            ]
          },
          "metadata": {
            "tags": [],
            "needs_background": "light"
          }
        },
        {
          "output_type": "stream",
          "text": [
            "              precision    recall  f1-score   support\n",
            "\n",
            "     related       0.30      1.00      0.47      9102\n",
            "   unrelated       0.89      0.00      0.00     20898\n",
            "\n",
            "    accuracy                           0.30     30000\n",
            "   macro avg       0.60      0.50      0.23     30000\n",
            "weighted avg       0.71      0.30      0.14     30000\n",
            "\n"
          ],
          "name": "stdout"
        }
      ]
    },
    {
      "cell_type": "code",
      "metadata": {
        "colab": {
          "base_uri": "https://localhost:8080/"
        },
        "id": "_dxo_-Wsrukv",
        "outputId": "aefad9c0-cd11-4f4b-b098-c22f3ae1308e"
      },
      "source": [
        "Counter(simPred5)"
      ],
      "execution_count": 92,
      "outputs": [
        {
          "output_type": "execute_result",
          "data": {
            "text/plain": [
              "Counter({'related': 29982, 'unrelated': 18})"
            ]
          },
          "metadata": {
            "tags": []
          },
          "execution_count": 92
        }
      ]
    },
    {
      "cell_type": "code",
      "metadata": {
        "colab": {
          "base_uri": "https://localhost:8080/",
          "height": 472
        },
        "id": "nDGnHV2Ym6tK",
        "outputId": "1a0691b3-7a48-40a1-a3ff-00fc136b8fe4"
      },
      "source": [
        "# for threshold 0.7\n",
        "simPred7 = similarity_predict(trainSim, 0.7)\n",
        "\n",
        "\n",
        "unique1, counts1 = np.unique(trainSim['labelN'], return_counts=True)\n",
        "unique2, counts2 = np.unique(simPred7, return_counts=True)\n",
        "plt.bar(unique1, counts1, alpha = 0.5,color = 'blue')\n",
        "plt.bar(unique2, counts2, alpha = 0.5, color = 'red')\n",
        "plt.legend(loc='upper right')\n",
        "plt.suptitle(\"Cosine Similarity Vector\")\n",
        "plt.show()\n",
        "\n",
        "\n",
        "crSim = classification_report(trainSim['labelN'], simPred7) \n",
        "print(crSim)"
      ],
      "execution_count": 93,
      "outputs": [
        {
          "output_type": "stream",
          "text": [
            "No handles with labels found to put in legend.\n"
          ],
          "name": "stderr"
        },
        {
          "output_type": "display_data",
          "data": {
            "image/png": "[encoded data removed]",
            "text/plain": [
              "<Figure size 432x288 with 1 Axes>"
            ]
          },
          "metadata": {
            "tags": [],
            "needs_background": "light"
          }
        },
        {
          "output_type": "stream",
          "text": [
            "              precision    recall  f1-score   support\n",
            "\n",
            "     related       0.30      1.00      0.47      9102\n",
            "   unrelated       0.89      0.00      0.00     20898\n",
            "\n",
            "    accuracy                           0.30     30000\n",
            "   macro avg       0.60      0.50      0.23     30000\n",
            "weighted avg       0.71      0.30      0.14     30000\n",
            "\n"
          ],
          "name": "stdout"
        }
      ]
    },
    {
      "cell_type": "code",
      "metadata": {
        "colab": {
          "base_uri": "https://localhost:8080/"
        },
        "id": "kOfB0MJUm7Te",
        "outputId": "b6a847e5-627a-49b0-afed-f1bdb5187410"
      },
      "source": [
        "Counter(simPred7)"
      ],
      "execution_count": 94,
      "outputs": [
        {
          "output_type": "execute_result",
          "data": {
            "text/plain": [
              "Counter({'related': 29982, 'unrelated': 18})"
            ]
          },
          "metadata": {
            "tags": []
          },
          "execution_count": 94
        }
      ]
    },
    {
      "cell_type": "code",
      "metadata": {
        "colab": {
          "base_uri": "https://localhost:8080/",
          "height": 454
        },
        "id": "PJARmUztnTRj",
        "outputId": "59becd34-b5cb-43ea-ed26-c3ed990dbe99"
      },
      "source": [
        "# for threshold 0.95\n",
        "simPred95 = similarity_predict(trainSim, 0.95)\n",
        "\n",
        "\n",
        "unique1, counts1 = np.unique(trainSim['labelN'], return_counts=True)\n",
        "unique2, counts2 = np.unique(simPred95, return_counts=True)\n",
        "plt.bar(unique1, counts1, alpha = 0.5,color = 'blue', label = \"True\")\n",
        "plt.bar(unique2, counts2, alpha = 0.5, color = 'red', label = \"Similarity based\")\n",
        "plt.legend(loc='upper right')\n",
        "plt.suptitle(\"Transformer Similarity Vector\")\n",
        "plt.show()\n",
        "\n",
        "\n",
        "crSim = classification_report(trainSim['labelN'], simPred95) \n",
        "print(crSim)"
      ],
      "execution_count": 99,
      "outputs": [
        {
          "output_type": "display_data",
          "data": {
            "image/png": "[encoded data removed]",
            "text/plain": [
              "<Figure size 432x288 with 1 Axes>"
            ]
          },
          "metadata": {
            "tags": [],
            "needs_background": "light"
          }
        },
        {
          "output_type": "stream",
          "text": [
            "              precision    recall  f1-score   support\n",
            "\n",
            "     related       0.30      0.99      0.47      9102\n",
            "   unrelated       0.77      0.01      0.02     20898\n",
            "\n",
            "    accuracy                           0.31     30000\n",
            "   macro avg       0.54      0.50      0.24     30000\n",
            "weighted avg       0.63      0.31      0.15     30000\n",
            "\n"
          ],
          "name": "stdout"
        }
      ]
    },
    {
      "cell_type": "code",
      "metadata": {
        "colab": {
          "base_uri": "https://localhost:8080/"
        },
        "id": "VqtBIEu2tPt0",
        "outputId": "d9d3d2b4-9d2c-4efe-a5fb-6c0d34eee665"
      },
      "source": [
        "Counter(simPred95)"
      ],
      "execution_count": 96,
      "outputs": [
        {
          "output_type": "execute_result",
          "data": {
            "text/plain": [
              "Counter({'related': 29769, 'unrelated': 231})"
            ]
          },
          "metadata": {
            "tags": []
          },
          "execution_count": 96
        }
      ]
    },
    {
      "cell_type": "code",
      "metadata": {
        "id": "82FsVbI1DuCQ"
      },
      "source": [
        ""
      ],
      "execution_count": null,
      "outputs": []
    },
    {
      "cell_type": "markdown",
      "metadata": {
        "id": "lOOQcrk_BnLd"
      },
      "source": [
        "## Using doc2vec"
      ]
    },
    {
      "cell_type": "code",
      "metadata": {
        "colab": {
          "base_uri": "https://localhost:8080/"
        },
        "id": "TSBmxqyLLt5O",
        "outputId": "af35bf5e-d378-4118-e0a7-b9a4ed6a23e6"
      },
      "source": [
        "superdoc = [row.docA for row in trainSim.itertuples()]\n",
        "for row in trainSim.itertuples():\n",
        "  superdoc.append(row.docB)\n",
        "\n",
        "len(superdoc)"
      ],
      "execution_count": 11,
      "outputs": [
        {
          "output_type": "execute_result",
          "data": {
            "text/plain": [
              "60000"
            ]
          },
          "metadata": {
            "tags": []
          },
          "execution_count": 11
        }
      ]
    },
    {
      "cell_type": "code",
      "metadata": {
        "id": "AUTGY_izLMkG"
      },
      "source": [
        "from gensim.models.doc2vec import Doc2Vec, TaggedDocument\n",
        "\n",
        "documents = [TaggedDocument(doc, [i]) for i, doc in enumerate(superdoc)]\n",
        "d2vmodel = Doc2Vec(documents, vector_size=5, window=2, min_count=1, workers=4)"
      ],
      "execution_count": 12,
      "outputs": []
    },
    {
      "cell_type": "code",
      "metadata": {
        "id": "2dvXSXHFLQVs"
      },
      "source": [
        "from gensim.test.utils import get_tmpfile\n",
        "fname = get_tmpfile(\"my_doc2vec_model\")\n",
        "d2vmodel.save(fname)\n",
        "d2vmodel = Doc2Vec.load(fname)  "
      ],
      "execution_count": 13,
      "outputs": []
    },
    {
      "cell_type": "code",
      "metadata": {
        "id": "qAXtcaIDM1XW"
      },
      "source": [
        "from scipy.spatial import distance\n",
        "\n",
        "def doc2vec_similarity(data,threshold):\n",
        "  simPred = []\n",
        "  for row in data.itertuples():\n",
        "    vec1 = d2vmodel.infer_vector(row.docA)\n",
        "    vec2 = d2vmodel.infer_vector(row.docB)\n",
        "    cos_distance = distance.cosine(vec1, vec2)\n",
        "    if cos_distance >threshold:\n",
        "      simPred.append('related')\n",
        "    else:\n",
        "      simPred.append('unrelated')\n",
        "  return simPred\n"
      ],
      "execution_count": 14,
      "outputs": []
    },
    {
      "cell_type": "code",
      "metadata": {
        "colab": {
          "base_uri": "https://localhost:8080/",
          "height": 454
        },
        "id": "01Eg_jaENvT6",
        "outputId": "a2d996f4-b409-4001-a05f-0de8f18f5d6b"
      },
      "source": [
        "# for threshold 0.5\n",
        "doc2vecPred5 = doc2vec_similarity(trainSim, 0.5)\n",
        "\n",
        "\n",
        "unique1, counts1 = np.unique(trainSim['labelN'], return_counts=True)\n",
        "unique2, counts2 = np.unique(doc2vecPred5, return_counts=True)\n",
        "plt.bar(unique1, counts1, alpha = 0.5, color = 'blue', label = \"True\")\n",
        "plt.bar(unique2, counts2, alpha = 0.5, color = 'red', label = \"Similarity\")\n",
        "plt.legend(loc='upper right')\n",
        "plt.suptitle(\"Doc2Vec Similarity Vector, threshold = 0.5\")\n",
        "plt.show()\n",
        "\n",
        "\n",
        "crSim = classification_report(trainSim['labelN'], doc2vecPred5) \n",
        "print(crSim)"
      ],
      "execution_count": 17,
      "outputs": [
        {
          "output_type": "display_data",
          "data": {
            "image/png": "[encoded data removed]",
            "text/plain": [
              "<Figure size 432x288 with 1 Axes>"
            ]
          },
          "metadata": {
            "tags": [],
            "needs_background": "light"
          }
        },
        {
          "output_type": "stream",
          "text": [
            "              precision    recall  f1-score   support\n",
            "\n",
            "     related       0.27      0.48      0.35      9102\n",
            "   unrelated       0.66      0.44      0.53     20898\n",
            "\n",
            "    accuracy                           0.45     30000\n",
            "   macro avg       0.47      0.46      0.44     30000\n",
            "weighted avg       0.54      0.45      0.48     30000\n",
            "\n"
          ],
          "name": "stdout"
        }
      ]
    },
    {
      "cell_type": "code",
      "metadata": {
        "colab": {
          "base_uri": "https://localhost:8080/",
          "height": 454
        },
        "id": "cuxyiZyuO4gP",
        "outputId": "e7d1028a-8dff-4160-de1e-f3efdd9c39eb"
      },
      "source": [
        "# for threshold 0.6\n",
        "doc2vecPred6 = doc2vec_similarity(trainSim, 0.6)\n",
        "\n",
        "\n",
        "unique1, counts1 = np.unique(trainSim['labelN'], return_counts=True)\n",
        "unique2, counts2 = np.unique(doc2vecPred6, return_counts=True)\n",
        "plt.bar(unique1, counts1, alpha = 0.5, color = 'blue', label = 'True')\n",
        "plt.bar(unique2, counts2, alpha = 0.5, color = 'red', label = 'Generated')\n",
        "plt.legend(loc='upper left')\n",
        "plt.suptitle(\"Doc2Vec Similarity Vector, threshold = 0.6\")\n",
        "plt.show()\n",
        "\n",
        "\n",
        "crSim = classification_report(trainSim['labelN'], doc2vecPred6) \n",
        "print(crSim)"
      ],
      "execution_count": 18,
      "outputs": [
        {
          "output_type": "display_data",
          "data": {
            "image/png": "[encoded data removed]",
            "text/plain": [
              "<Figure size 432x288 with 1 Axes>"
            ]
          },
          "metadata": {
            "tags": [],
            "needs_background": "light"
          }
        },
        {
          "output_type": "stream",
          "text": [
            "              precision    recall  f1-score   support\n",
            "\n",
            "     related       0.27      0.40      0.32      9102\n",
            "   unrelated       0.67      0.52      0.59     20898\n",
            "\n",
            "    accuracy                           0.49     30000\n",
            "   macro avg       0.47      0.46      0.45     30000\n",
            "weighted avg       0.55      0.49      0.51     30000\n",
            "\n"
          ],
          "name": "stdout"
        }
      ]
    },
    {
      "cell_type": "code",
      "metadata": {
        "colab": {
          "base_uri": "https://localhost:8080/",
          "height": 454
        },
        "id": "UzgpleetPaz8",
        "outputId": "ebb2ee5d-1b97-4979-978b-8b0ca715785b"
      },
      "source": [
        "# for threshold 0.7\n",
        "doc2vecPred7 = doc2vec_similarity(trainSim, 0.7)\n",
        "\n",
        "unique1, counts1 = np.unique(trainSim['labelN'], return_counts=True)\n",
        "unique2, counts2 = np.unique(doc2vecPred7, return_counts=True)\n",
        "plt.bar(unique1, counts1, alpha = 0.5, color = 'blue', label = 'True')\n",
        "plt.bar(unique2, counts2, alpha = 0.5, color = 'red', label = 'Generated')\n",
        "plt.legend(loc='upper left')\n",
        "plt.suptitle(\"Doc2Vec Similarity Vector, threshold = 0.7\")\n",
        "plt.show()\n",
        "\n",
        "\n",
        "crSim = classification_report(trainSim['labelN'], doc2vecPred7) \n",
        "print(crSim)"
      ],
      "execution_count": 15,
      "outputs": [
        {
          "output_type": "display_data",
          "data": {
            "image/png": "[encoded data removed]",
            "text/plain": [
              "<Figure size 432x288 with 1 Axes>"
            ]
          },
          "metadata": {
            "tags": [],
            "needs_background": "light"
          }
        },
        {
          "output_type": "stream",
          "text": [
            "              precision    recall  f1-score   support\n",
            "\n",
            "     related       0.26      0.34      0.30      9102\n",
            "   unrelated       0.67      0.59      0.63     20898\n",
            "\n",
            "    accuracy                           0.51     30000\n",
            "   macro avg       0.47      0.46      0.46     30000\n",
            "weighted avg       0.55      0.51      0.53     30000\n",
            "\n"
          ],
          "name": "stdout"
        }
      ]
    },
    {
      "cell_type": "code",
      "metadata": {
        "id": "nd9zwnb3PokG",
        "colab": {
          "base_uri": "https://localhost:8080/",
          "height": 454
        },
        "outputId": "a501906a-8c10-4386-f9f3-86160b8c4fcb"
      },
      "source": [
        "# for threshold 0.9\n",
        "doc2vecPred9 = doc2vec_similarity(trainSim, 0.9)\n",
        "\n",
        "unique1, counts1 = np.unique(trainSim['labelN'], return_counts=True)\n",
        "unique2, counts2 = np.unique(doc2vecPred9, return_counts=True)\n",
        "plt.bar(unique1, counts1, alpha = 0.5, color = 'blue', label = 'True')\n",
        "plt.bar(unique2, counts2, alpha = 0.5, color = 'red', label = 'Generated')\n",
        "plt.legend(loc='upper left')\n",
        "plt.suptitle(\"Doc2Vec Similarity Vector, threshold = 0.9\")\n",
        "plt.show()\n",
        "\n",
        "\n",
        "crSim = classification_report(trainSim['labelN'], doc2vecPred9) \n",
        "print(crSim)"
      ],
      "execution_count": 16,
      "outputs": [
        {
          "output_type": "display_data",
          "data": {
            "image/png": "[encoded data removed]",
            "text/plain": [
              "<Figure size 432x288 with 1 Axes>"
            ]
          },
          "metadata": {
            "tags": [],
            "needs_background": "light"
          }
        },
        {
          "output_type": "stream",
          "text": [
            "              precision    recall  f1-score   support\n",
            "\n",
            "     related       0.25      0.23      0.24      9102\n",
            "   unrelated       0.67      0.69      0.68     20898\n",
            "\n",
            "    accuracy                           0.55     30000\n",
            "   macro avg       0.46      0.46      0.46     30000\n",
            "weighted avg       0.55      0.55      0.55     30000\n",
            "\n"
          ],
          "name": "stdout"
        }
      ]
    },
    {
      "cell_type": "code",
      "metadata": {
        "id": "T9YlLje_OCdB"
      },
      "source": [
        ""
      ],
      "execution_count": null,
      "outputs": []
    }
  ]
}